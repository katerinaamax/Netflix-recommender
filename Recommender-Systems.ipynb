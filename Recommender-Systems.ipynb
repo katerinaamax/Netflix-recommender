{
 "cells": [
  {
   "cell_type": "markdown",
   "metadata": {},
   "source": [
    "# Preparing the Data"
   ]
  },
  {
   "cell_type": "markdown",
   "metadata": {},
   "source": [
    "## Imports"
   ]
  },
  {
   "cell_type": "code",
   "execution_count": 78,
   "metadata": {
    "ExecuteTime": {
     "end_time": "2020-01-21T21:51:40.742683Z",
     "start_time": "2020-01-21T21:51:40.735681Z"
    }
   },
   "outputs": [],
   "source": [
    "import pandas as pd\n",
    "import numpy as np\n",
    "import statistics as stats\n",
    "import matplotlib.pyplot as plt\n",
    "import math\n",
    "\n",
    "from sklearn.model_selection import train_test_split\n",
    "from sklearn.metrics import mean_squared_error\n",
    "from sklearn.metrics.pairwise import cosine_similarity\n",
    "from sklearn.metrics import pairwise_distances\n",
    "from sklearn.feature_extraction.text import CountVectorizer\n",
    "from sklearn.feature_extraction.text import TfidfVectorizer\n",
    "\n",
    "from scipy.sparse.linalg import svds\n",
    "\n",
    "from tensorflow.keras.layers import Input, Embedding, Reshape, Dot, Concatenate, Dense, Dropout\n",
    "from tensorflow.keras.models import Model"
   ]
  },
  {
   "cell_type": "markdown",
   "metadata": {},
   "source": [
    "## Load the Dataset"
   ]
  },
  {
   "cell_type": "code",
   "execution_count": 2,
   "metadata": {
    "ExecuteTime": {
     "end_time": "2020-01-21T21:06:05.289884Z",
     "start_time": "2020-01-21T21:05:53.603997Z"
    }
   },
   "outputs": [
    {
     "data": {
      "text/html": [
       "<div>\n",
       "<style scoped>\n",
       "    .dataframe tbody tr th:only-of-type {\n",
       "        vertical-align: middle;\n",
       "    }\n",
       "\n",
       "    .dataframe tbody tr th {\n",
       "        vertical-align: top;\n",
       "    }\n",
       "\n",
       "    .dataframe thead th {\n",
       "        text-align: right;\n",
       "    }\n",
       "</style>\n",
       "<table border=\"1\" class=\"dataframe\">\n",
       "  <thead>\n",
       "    <tr style=\"text-align: right;\">\n",
       "      <th></th>\n",
       "      <th>Cust_Id</th>\n",
       "      <th>Rating</th>\n",
       "    </tr>\n",
       "  </thead>\n",
       "  <tbody>\n",
       "    <tr>\n",
       "      <td>0</td>\n",
       "      <td>1:</td>\n",
       "      <td>NaN</td>\n",
       "    </tr>\n",
       "    <tr>\n",
       "      <td>1</td>\n",
       "      <td>1488844</td>\n",
       "      <td>3.0</td>\n",
       "    </tr>\n",
       "    <tr>\n",
       "      <td>2</td>\n",
       "      <td>822109</td>\n",
       "      <td>5.0</td>\n",
       "    </tr>\n",
       "    <tr>\n",
       "      <td>3</td>\n",
       "      <td>885013</td>\n",
       "      <td>4.0</td>\n",
       "    </tr>\n",
       "    <tr>\n",
       "      <td>4</td>\n",
       "      <td>30878</td>\n",
       "      <td>4.0</td>\n",
       "    </tr>\n",
       "  </tbody>\n",
       "</table>\n",
       "</div>"
      ],
      "text/plain": [
       "   Cust_Id  Rating\n",
       "0       1:     NaN\n",
       "1  1488844     3.0\n",
       "2   822109     5.0\n",
       "3   885013     4.0\n",
       "4    30878     4.0"
      ]
     },
     "execution_count": 2,
     "metadata": {},
     "output_type": "execute_result"
    }
   ],
   "source": [
    "df = pd.read_csv('./data/combined_data_1.txt', header=None, names=['Cust_Id', 'Rating'], usecols=[0, 1])\n",
    "df.head()"
   ]
  },
  {
   "cell_type": "markdown",
   "metadata": {},
   "source": [
    "## Cleaning the Data"
   ]
  },
  {
   "cell_type": "code",
   "execution_count": 3,
   "metadata": {
    "ExecuteTime": {
     "end_time": "2020-01-21T21:08:10.043143Z",
     "start_time": "2020-01-21T21:06:05.299887Z"
    }
   },
   "outputs": [
    {
     "name": "stdout",
     "output_type": "stream",
     "text": [
      "-Dataset examples-\n",
      "          Cust_Id  Rating  Movie_Id\n",
      "1         1488844     3.0         1\n",
      "5000996    501954     2.0       996\n",
      "10001962   404654     5.0      1962\n",
      "15002876   886608     2.0      2876\n",
      "20003825  1193835     2.0      3825\n"
     ]
    }
   ],
   "source": [
    "df_nan = pd.DataFrame(pd.isnull(df.Rating))\n",
    "df_nan = df_nan[df_nan['Rating'] == True]\n",
    "df_nan = df_nan.reset_index()\n",
    "\n",
    "movie_np = []\n",
    "movie_id = 1\n",
    "\n",
    "for i,j in zip(df_nan['index'][1:], df_nan['index'][:-1]):\n",
    "    temp = np.full((1,i-j-1), movie_id)\n",
    "    movie_np = np.append(movie_np, temp)\n",
    "    movie_id += 1\n",
    "\n",
    "# Account for last record and corresponding length\n",
    "last_record = np.full((1, len(df) - df_nan.iloc[-1, 0] - 1), movie_id)\n",
    "movie_np = np.append(movie_np, last_record)\n",
    "\n",
    "# remove those Movie ID rows\n",
    "df = df[pd.notnull(df['Rating'])]\n",
    "\n",
    "df['Movie_Id'] = movie_np.astype(int)\n",
    "df['Cust_Id'] = df['Cust_Id'].astype(int)\n",
    "print(\"-Dataset examples-\")\n",
    "print(df.iloc[::5_000_000, :])"
   ]
  },
  {
   "cell_type": "code",
   "execution_count": 4,
   "metadata": {
    "ExecuteTime": {
     "end_time": "2020-01-21T21:08:15.053071Z",
     "start_time": "2020-01-21T21:08:10.062147Z"
    }
   },
   "outputs": [
    {
     "name": "stdout",
     "output_type": "stream",
     "text": [
      "Movie minimum times of review: 1799\n",
      "Customer minimum times of review: 52\n"
     ]
    }
   ],
   "source": [
    "f = ['count', 'mean']\n",
    "\n",
    "df_movie_summary = df.groupby('Movie_Id')['Rating'].agg(f)\n",
    "df_movie_summary.index = df_movie_summary.index.map(int)\n",
    "movie_benchmark = int(round(df_movie_summary['count'].quantile(0.7), 0))\n",
    "drop_movie_list = df_movie_summary[df_movie_summary['count'] < movie_benchmark].index\n",
    "\n",
    "print(f\"Movie minimum times of review: {movie_benchmark:d}\")\n",
    "\n",
    "df_cust_summary = df.groupby('Cust_Id')['Rating'].agg(f)\n",
    "df_cust_summary.index = df_cust_summary.index.map(int)\n",
    "cust_benchmark = int(round(df_cust_summary['count'].quantile(0.7), 0))\n",
    "drop_cust_list = df_cust_summary[df_cust_summary['count'] < cust_benchmark].index\n",
    "\n",
    "print(f\"Customer minimum times of review: {cust_benchmark:d}\")"
   ]
  },
  {
   "cell_type": "code",
   "execution_count": 5,
   "metadata": {
    "ExecuteTime": {
     "end_time": "2020-01-21T21:08:22.688260Z",
     "start_time": "2020-01-21T21:08:15.079075Z"
    }
   },
   "outputs": [
    {
     "name": "stdout",
     "output_type": "stream",
     "text": [
      "Original Shape: (24053764, 3)\n",
      "After Trim Shape: (17337458, 3)\n",
      "-Data Examples-\n",
      "          Cust_Id  Rating  Movie_Id\n",
      "696        712664     5.0         3\n",
      "6932490   1299309     5.0      1384\n",
      "13860273   400155     3.0      2660\n",
      "20766530   466962     4.0      3923\n"
     ]
    }
   ],
   "source": [
    "print(f\"Original Shape: {df.shape}\")\n",
    "\n",
    "df = df[~df['Movie_Id'].isin(drop_movie_list)]\n",
    "df = df[~df['Cust_Id'].isin(drop_cust_list)]\n",
    "print(f\"After Trim Shape: {df.shape}\")\n",
    "\n",
    "print('-Data Examples-')\n",
    "print(df.iloc[::5_000_000, :])"
   ]
  },
  {
   "cell_type": "markdown",
   "metadata": {},
   "source": [
    "## Train-Test Split"
   ]
  },
  {
   "cell_type": "code",
   "execution_count": 6,
   "metadata": {
    "ExecuteTime": {
     "end_time": "2020-01-21T21:08:24.174056Z",
     "start_time": "2020-01-21T21:08:22.711146Z"
    }
   },
   "outputs": [],
   "source": [
    "i_train, i_test = train_test_split(np.array(df.index), train_size=0.8)"
   ]
  },
  {
   "cell_type": "code",
   "execution_count": 7,
   "metadata": {
    "ExecuteTime": {
     "end_time": "2020-01-21T21:08:28.053811Z",
     "start_time": "2020-01-21T21:08:24.197818Z"
    }
   },
   "outputs": [
    {
     "name": "stdout",
     "output_type": "stream",
     "text": [
      "Train Data Shape: (13869966, 3)\n",
      "-Train Data Examples-\n",
      "          Cust_Id  Rating  Movie_Id\n",
      "15950758  2553601     4.0      3106\n",
      "19380692  1208976     4.0      3684\n",
      "19781036   621274     3.0      3782\n",
      "9409321      7548     3.0      1861\n"
     ]
    }
   ],
   "source": [
    "df_train = df.loc[i_train]\n",
    "print(f\"Train Data Shape: {df_train.shape}\")\n",
    "print(\"-Train Data Examples-\")\n",
    "print(df_train.iloc[::int(5_000_000 * 0.8), :])"
   ]
  },
  {
   "cell_type": "code",
   "execution_count": 8,
   "metadata": {
    "ExecuteTime": {
     "end_time": "2020-01-21T21:08:28.769971Z",
     "start_time": "2020-01-21T21:08:28.086818Z"
    }
   },
   "outputs": [
    {
     "name": "stdout",
     "output_type": "stream",
     "text": [
      "Test Data Shape: (3467492, 3)\n",
      "-Test Data Examples-\n",
      "          Cust_Id  Rating  Movie_Id\n",
      "20760590  1349507     3.0      3921\n",
      "16416402  2628206     4.0      3165\n",
      "16957938   778689     1.0      3282\n",
      "2283991   2066580     5.0       436\n"
     ]
    }
   ],
   "source": [
    "df_test = df.loc[i_test]\n",
    "print(f\"Test Data Shape: {df_test.shape}\")\n",
    "print(\"-Test Data Examples-\")\n",
    "print(df_test.iloc[::int(5_000_000 * 0.2), :])"
   ]
  },
  {
   "cell_type": "markdown",
   "metadata": {},
   "source": [
    "## Data Mapping"
   ]
  },
  {
   "cell_type": "code",
   "execution_count": 9,
   "metadata": {
    "ExecuteTime": {
     "end_time": "2020-01-21T21:08:29.067233Z",
     "start_time": "2020-01-21T21:08:28.797978Z"
    }
   },
   "outputs": [
    {
     "data": {
      "text/html": [
       "<div>\n",
       "<style scoped>\n",
       "    .dataframe tbody tr th:only-of-type {\n",
       "        vertical-align: middle;\n",
       "    }\n",
       "\n",
       "    .dataframe tbody tr th {\n",
       "        vertical-align: top;\n",
       "    }\n",
       "\n",
       "    .dataframe thead th {\n",
       "        text-align: right;\n",
       "    }\n",
       "</style>\n",
       "<table border=\"1\" class=\"dataframe\">\n",
       "  <thead>\n",
       "    <tr style=\"text-align: right;\">\n",
       "      <th></th>\n",
       "      <th>Year</th>\n",
       "      <th>Name</th>\n",
       "    </tr>\n",
       "    <tr>\n",
       "      <th>Movie_Id</th>\n",
       "      <th></th>\n",
       "      <th></th>\n",
       "    </tr>\n",
       "  </thead>\n",
       "  <tbody>\n",
       "    <tr>\n",
       "      <td>1</td>\n",
       "      <td>2003.0</td>\n",
       "      <td>Dinosaur Planet</td>\n",
       "    </tr>\n",
       "    <tr>\n",
       "      <td>2</td>\n",
       "      <td>2004.0</td>\n",
       "      <td>Isle of Man TT 2004 Review</td>\n",
       "    </tr>\n",
       "    <tr>\n",
       "      <td>3</td>\n",
       "      <td>1997.0</td>\n",
       "      <td>Character</td>\n",
       "    </tr>\n",
       "    <tr>\n",
       "      <td>4</td>\n",
       "      <td>1994.0</td>\n",
       "      <td>Paula Abdul's Get Up &amp; Dance</td>\n",
       "    </tr>\n",
       "    <tr>\n",
       "      <td>5</td>\n",
       "      <td>2004.0</td>\n",
       "      <td>The Rise and Fall of ECW</td>\n",
       "    </tr>\n",
       "    <tr>\n",
       "      <td>6</td>\n",
       "      <td>1997.0</td>\n",
       "      <td>Sick</td>\n",
       "    </tr>\n",
       "    <tr>\n",
       "      <td>7</td>\n",
       "      <td>1992.0</td>\n",
       "      <td>8 Man</td>\n",
       "    </tr>\n",
       "    <tr>\n",
       "      <td>8</td>\n",
       "      <td>2004.0</td>\n",
       "      <td>What the #$*! Do We Know!?</td>\n",
       "    </tr>\n",
       "    <tr>\n",
       "      <td>9</td>\n",
       "      <td>1991.0</td>\n",
       "      <td>Class of Nuke 'Em High 2</td>\n",
       "    </tr>\n",
       "    <tr>\n",
       "      <td>10</td>\n",
       "      <td>2001.0</td>\n",
       "      <td>Fighter</td>\n",
       "    </tr>\n",
       "  </tbody>\n",
       "</table>\n",
       "</div>"
      ],
      "text/plain": [
       "            Year                          Name\n",
       "Movie_Id                                      \n",
       "1         2003.0               Dinosaur Planet\n",
       "2         2004.0    Isle of Man TT 2004 Review\n",
       "3         1997.0                     Character\n",
       "4         1994.0  Paula Abdul's Get Up & Dance\n",
       "5         2004.0      The Rise and Fall of ECW\n",
       "6         1997.0                          Sick\n",
       "7         1992.0                         8 Man\n",
       "8         2004.0    What the #$*! Do We Know!?\n",
       "9         1991.0      Class of Nuke 'Em High 2\n",
       "10        2001.0                       Fighter"
      ]
     },
     "execution_count": 9,
     "metadata": {},
     "output_type": "execute_result"
    }
   ],
   "source": [
    "df_title = pd.read_csv(\"./data/movie_titles.csv\", encoding=\"ISO-8859-1\", header=None, names=['Movie_Id', 'Year', 'Name'])\n",
    "df_title.set_index('Movie_Id', inplace = True)\n",
    "df_title.head(10)"
   ]
  },
  {
   "cell_type": "markdown",
   "metadata": {},
   "source": [
    "## Netflix Titles"
   ]
  },
  {
   "cell_type": "code",
   "execution_count": 10,
   "metadata": {
    "ExecuteTime": {
     "end_time": "2020-01-21T21:08:29.392306Z",
     "start_time": "2020-01-21T21:08:29.098231Z"
    }
   },
   "outputs": [
    {
     "data": {
      "text/html": [
       "<div>\n",
       "<style scoped>\n",
       "    .dataframe tbody tr th:only-of-type {\n",
       "        vertical-align: middle;\n",
       "    }\n",
       "\n",
       "    .dataframe tbody tr th {\n",
       "        vertical-align: top;\n",
       "    }\n",
       "\n",
       "    .dataframe thead th {\n",
       "        text-align: right;\n",
       "    }\n",
       "</style>\n",
       "<table border=\"1\" class=\"dataframe\">\n",
       "  <thead>\n",
       "    <tr style=\"text-align: right;\">\n",
       "      <th></th>\n",
       "      <th>show_id</th>\n",
       "      <th>title</th>\n",
       "      <th>director</th>\n",
       "      <th>cast</th>\n",
       "      <th>country</th>\n",
       "      <th>date_added</th>\n",
       "      <th>release_year</th>\n",
       "      <th>rating</th>\n",
       "      <th>duration</th>\n",
       "      <th>listed_in</th>\n",
       "      <th>description</th>\n",
       "      <th>type</th>\n",
       "    </tr>\n",
       "  </thead>\n",
       "  <tbody>\n",
       "    <tr>\n",
       "      <td>0</td>\n",
       "      <td>81193313</td>\n",
       "      <td>Chocolate</td>\n",
       "      <td>NaN</td>\n",
       "      <td>Ha Ji-won, Yoon Kye-sang, Jang Seung-jo, Kang ...</td>\n",
       "      <td>South Korea</td>\n",
       "      <td>November 30, 2019</td>\n",
       "      <td>2019</td>\n",
       "      <td>TV-14</td>\n",
       "      <td>1 Season</td>\n",
       "      <td>International TV Shows, Korean TV Shows, Roman...</td>\n",
       "      <td>Brought together by meaningful meals in the pa...</td>\n",
       "      <td>TV Show</td>\n",
       "    </tr>\n",
       "    <tr>\n",
       "      <td>1</td>\n",
       "      <td>81197050</td>\n",
       "      <td>Guatemala: Heart of the Mayan World</td>\n",
       "      <td>Luis Ara, Ignacio Jaunsolo</td>\n",
       "      <td>Christian Morales</td>\n",
       "      <td>NaN</td>\n",
       "      <td>November 30, 2019</td>\n",
       "      <td>2019</td>\n",
       "      <td>TV-G</td>\n",
       "      <td>67 min</td>\n",
       "      <td>Documentaries, International Movies</td>\n",
       "      <td>From Sierra de las Minas to Esquipulas, explor...</td>\n",
       "      <td>Movie</td>\n",
       "    </tr>\n",
       "    <tr>\n",
       "      <td>2</td>\n",
       "      <td>81213894</td>\n",
       "      <td>The Zoya Factor</td>\n",
       "      <td>Abhishek Sharma</td>\n",
       "      <td>Sonam Kapoor, Dulquer Salmaan, Sanjay Kapoor, ...</td>\n",
       "      <td>India</td>\n",
       "      <td>November 30, 2019</td>\n",
       "      <td>2019</td>\n",
       "      <td>TV-14</td>\n",
       "      <td>135 min</td>\n",
       "      <td>Comedies, Dramas, International Movies</td>\n",
       "      <td>A goofy copywriter unwittingly convinces the I...</td>\n",
       "      <td>Movie</td>\n",
       "    </tr>\n",
       "    <tr>\n",
       "      <td>3</td>\n",
       "      <td>81082007</td>\n",
       "      <td>Atlantics</td>\n",
       "      <td>Mati Diop</td>\n",
       "      <td>Mama Sane, Amadou Mbow, Ibrahima Traore, Nicol...</td>\n",
       "      <td>France, Senegal, Belgium</td>\n",
       "      <td>November 29, 2019</td>\n",
       "      <td>2019</td>\n",
       "      <td>TV-14</td>\n",
       "      <td>106 min</td>\n",
       "      <td>Dramas, Independent Movies, International Movies</td>\n",
       "      <td>Arranged to marry a rich man, young Ada is cru...</td>\n",
       "      <td>Movie</td>\n",
       "    </tr>\n",
       "    <tr>\n",
       "      <td>4</td>\n",
       "      <td>80213643</td>\n",
       "      <td>Chip and Potato</td>\n",
       "      <td>NaN</td>\n",
       "      <td>Abigail Oliver, Andrea Libman, Briana Buckmast...</td>\n",
       "      <td>Canada, United Kingdom</td>\n",
       "      <td>NaN</td>\n",
       "      <td>2019</td>\n",
       "      <td>TV-Y</td>\n",
       "      <td>2 Seasons</td>\n",
       "      <td>Kids' TV</td>\n",
       "      <td>Lovable pug Chip starts kindergarten, makes ne...</td>\n",
       "      <td>TV Show</td>\n",
       "    </tr>\n",
       "  </tbody>\n",
       "</table>\n",
       "</div>"
      ],
      "text/plain": [
       "    show_id                                title                    director  \\\n",
       "0  81193313                            Chocolate                         NaN   \n",
       "1  81197050  Guatemala: Heart of the Mayan World  Luis Ara, Ignacio Jaunsolo   \n",
       "2  81213894                      The Zoya Factor             Abhishek Sharma   \n",
       "3  81082007                            Atlantics                   Mati Diop   \n",
       "4  80213643                      Chip and Potato                         NaN   \n",
       "\n",
       "                                                cast  \\\n",
       "0  Ha Ji-won, Yoon Kye-sang, Jang Seung-jo, Kang ...   \n",
       "1                                  Christian Morales   \n",
       "2  Sonam Kapoor, Dulquer Salmaan, Sanjay Kapoor, ...   \n",
       "3  Mama Sane, Amadou Mbow, Ibrahima Traore, Nicol...   \n",
       "4  Abigail Oliver, Andrea Libman, Briana Buckmast...   \n",
       "\n",
       "                    country         date_added  release_year rating  \\\n",
       "0               South Korea  November 30, 2019          2019  TV-14   \n",
       "1                       NaN  November 30, 2019          2019   TV-G   \n",
       "2                     India  November 30, 2019          2019  TV-14   \n",
       "3  France, Senegal, Belgium  November 29, 2019          2019  TV-14   \n",
       "4    Canada, United Kingdom                NaN          2019   TV-Y   \n",
       "\n",
       "    duration                                          listed_in  \\\n",
       "0   1 Season  International TV Shows, Korean TV Shows, Roman...   \n",
       "1     67 min                Documentaries, International Movies   \n",
       "2    135 min             Comedies, Dramas, International Movies   \n",
       "3    106 min   Dramas, Independent Movies, International Movies   \n",
       "4  2 Seasons                                           Kids' TV   \n",
       "\n",
       "                                         description     type  \n",
       "0  Brought together by meaningful meals in the pa...  TV Show  \n",
       "1  From Sierra de las Minas to Esquipulas, explor...    Movie  \n",
       "2  A goofy copywriter unwittingly convinces the I...    Movie  \n",
       "3  Arranged to marry a rich man, young Ada is cru...    Movie  \n",
       "4  Lovable pug Chip starts kindergarten, makes ne...  TV Show  "
      ]
     },
     "execution_count": 10,
     "metadata": {},
     "output_type": "execute_result"
    }
   ],
   "source": [
    "df_netflix_titles = pd.read_csv(\"netflix_titles_nov_2019.csv\") \n",
    "df_netflix_titles.head()"
   ]
  },
  {
   "cell_type": "markdown",
   "metadata": {},
   "source": [
    "## User-Movie-Matrix"
   ]
  },
  {
   "cell_type": "code",
   "execution_count": 11,
   "metadata": {
    "ExecuteTime": {
     "end_time": "2020-01-21T21:09:02.460621Z",
     "start_time": "2020-01-21T21:08:29.432305Z"
    }
   },
   "outputs": [
    {
     "data": {
      "text/html": [
       "<div>\n",
       "<style scoped>\n",
       "    .dataframe tbody tr th:only-of-type {\n",
       "        vertical-align: middle;\n",
       "    }\n",
       "\n",
       "    .dataframe tbody tr th {\n",
       "        vertical-align: top;\n",
       "    }\n",
       "\n",
       "    .dataframe thead th {\n",
       "        text-align: right;\n",
       "    }\n",
       "</style>\n",
       "<table border=\"1\" class=\"dataframe\">\n",
       "  <thead>\n",
       "    <tr style=\"text-align: right;\">\n",
       "      <th>Movie_Id</th>\n",
       "      <th>3</th>\n",
       "      <th>8</th>\n",
       "      <th>16</th>\n",
       "      <th>17</th>\n",
       "      <th>18</th>\n",
       "      <th>26</th>\n",
       "      <th>28</th>\n",
       "      <th>30</th>\n",
       "      <th>32</th>\n",
       "      <th>33</th>\n",
       "      <th>...</th>\n",
       "      <th>4472</th>\n",
       "      <th>4474</th>\n",
       "      <th>4478</th>\n",
       "      <th>4479</th>\n",
       "      <th>4485</th>\n",
       "      <th>4488</th>\n",
       "      <th>4490</th>\n",
       "      <th>4492</th>\n",
       "      <th>4493</th>\n",
       "      <th>4496</th>\n",
       "    </tr>\n",
       "    <tr>\n",
       "      <th>Cust_Id</th>\n",
       "      <th></th>\n",
       "      <th></th>\n",
       "      <th></th>\n",
       "      <th></th>\n",
       "      <th></th>\n",
       "      <th></th>\n",
       "      <th></th>\n",
       "      <th></th>\n",
       "      <th></th>\n",
       "      <th></th>\n",
       "      <th></th>\n",
       "      <th></th>\n",
       "      <th></th>\n",
       "      <th></th>\n",
       "      <th></th>\n",
       "      <th></th>\n",
       "      <th></th>\n",
       "      <th></th>\n",
       "      <th></th>\n",
       "      <th></th>\n",
       "      <th></th>\n",
       "    </tr>\n",
       "  </thead>\n",
       "  <tbody>\n",
       "    <tr>\n",
       "      <td>6</td>\n",
       "      <td>NaN</td>\n",
       "      <td>NaN</td>\n",
       "      <td>NaN</td>\n",
       "      <td>NaN</td>\n",
       "      <td>NaN</td>\n",
       "      <td>NaN</td>\n",
       "      <td>NaN</td>\n",
       "      <td>3.0</td>\n",
       "      <td>NaN</td>\n",
       "      <td>NaN</td>\n",
       "      <td>...</td>\n",
       "      <td>3.0</td>\n",
       "      <td>NaN</td>\n",
       "      <td>NaN</td>\n",
       "      <td>NaN</td>\n",
       "      <td>NaN</td>\n",
       "      <td>NaN</td>\n",
       "      <td>NaN</td>\n",
       "      <td>NaN</td>\n",
       "      <td>NaN</td>\n",
       "      <td>NaN</td>\n",
       "    </tr>\n",
       "    <tr>\n",
       "      <td>7</td>\n",
       "      <td>NaN</td>\n",
       "      <td>5.0</td>\n",
       "      <td>NaN</td>\n",
       "      <td>NaN</td>\n",
       "      <td>NaN</td>\n",
       "      <td>NaN</td>\n",
       "      <td>4.0</td>\n",
       "      <td>5.0</td>\n",
       "      <td>NaN</td>\n",
       "      <td>NaN</td>\n",
       "      <td>...</td>\n",
       "      <td>3.0</td>\n",
       "      <td>NaN</td>\n",
       "      <td>NaN</td>\n",
       "      <td>5.0</td>\n",
       "      <td>NaN</td>\n",
       "      <td>NaN</td>\n",
       "      <td>NaN</td>\n",
       "      <td>NaN</td>\n",
       "      <td>NaN</td>\n",
       "      <td>NaN</td>\n",
       "    </tr>\n",
       "    <tr>\n",
       "      <td>79</td>\n",
       "      <td>NaN</td>\n",
       "      <td>NaN</td>\n",
       "      <td>NaN</td>\n",
       "      <td>NaN</td>\n",
       "      <td>NaN</td>\n",
       "      <td>NaN</td>\n",
       "      <td>NaN</td>\n",
       "      <td>3.0</td>\n",
       "      <td>NaN</td>\n",
       "      <td>NaN</td>\n",
       "      <td>...</td>\n",
       "      <td>4.0</td>\n",
       "      <td>NaN</td>\n",
       "      <td>NaN</td>\n",
       "      <td>NaN</td>\n",
       "      <td>NaN</td>\n",
       "      <td>NaN</td>\n",
       "      <td>4.0</td>\n",
       "      <td>NaN</td>\n",
       "      <td>NaN</td>\n",
       "      <td>NaN</td>\n",
       "    </tr>\n",
       "    <tr>\n",
       "      <td>97</td>\n",
       "      <td>NaN</td>\n",
       "      <td>NaN</td>\n",
       "      <td>NaN</td>\n",
       "      <td>NaN</td>\n",
       "      <td>NaN</td>\n",
       "      <td>NaN</td>\n",
       "      <td>NaN</td>\n",
       "      <td>NaN</td>\n",
       "      <td>NaN</td>\n",
       "      <td>NaN</td>\n",
       "      <td>...</td>\n",
       "      <td>NaN</td>\n",
       "      <td>NaN</td>\n",
       "      <td>NaN</td>\n",
       "      <td>NaN</td>\n",
       "      <td>NaN</td>\n",
       "      <td>NaN</td>\n",
       "      <td>NaN</td>\n",
       "      <td>NaN</td>\n",
       "      <td>NaN</td>\n",
       "      <td>NaN</td>\n",
       "    </tr>\n",
       "    <tr>\n",
       "      <td>134</td>\n",
       "      <td>NaN</td>\n",
       "      <td>NaN</td>\n",
       "      <td>NaN</td>\n",
       "      <td>NaN</td>\n",
       "      <td>NaN</td>\n",
       "      <td>NaN</td>\n",
       "      <td>5.0</td>\n",
       "      <td>NaN</td>\n",
       "      <td>NaN</td>\n",
       "      <td>NaN</td>\n",
       "      <td>...</td>\n",
       "      <td>NaN</td>\n",
       "      <td>NaN</td>\n",
       "      <td>NaN</td>\n",
       "      <td>NaN</td>\n",
       "      <td>NaN</td>\n",
       "      <td>NaN</td>\n",
       "      <td>NaN</td>\n",
       "      <td>NaN</td>\n",
       "      <td>NaN</td>\n",
       "      <td>NaN</td>\n",
       "    </tr>\n",
       "    <tr>\n",
       "      <td>...</td>\n",
       "      <td>...</td>\n",
       "      <td>...</td>\n",
       "      <td>...</td>\n",
       "      <td>...</td>\n",
       "      <td>...</td>\n",
       "      <td>...</td>\n",
       "      <td>...</td>\n",
       "      <td>...</td>\n",
       "      <td>...</td>\n",
       "      <td>...</td>\n",
       "      <td>...</td>\n",
       "      <td>...</td>\n",
       "      <td>...</td>\n",
       "      <td>...</td>\n",
       "      <td>...</td>\n",
       "      <td>...</td>\n",
       "      <td>...</td>\n",
       "      <td>...</td>\n",
       "      <td>...</td>\n",
       "      <td>...</td>\n",
       "      <td>...</td>\n",
       "    </tr>\n",
       "    <tr>\n",
       "      <td>2649370</td>\n",
       "      <td>NaN</td>\n",
       "      <td>NaN</td>\n",
       "      <td>NaN</td>\n",
       "      <td>NaN</td>\n",
       "      <td>NaN</td>\n",
       "      <td>NaN</td>\n",
       "      <td>NaN</td>\n",
       "      <td>NaN</td>\n",
       "      <td>NaN</td>\n",
       "      <td>NaN</td>\n",
       "      <td>...</td>\n",
       "      <td>NaN</td>\n",
       "      <td>NaN</td>\n",
       "      <td>NaN</td>\n",
       "      <td>NaN</td>\n",
       "      <td>NaN</td>\n",
       "      <td>NaN</td>\n",
       "      <td>NaN</td>\n",
       "      <td>NaN</td>\n",
       "      <td>NaN</td>\n",
       "      <td>NaN</td>\n",
       "    </tr>\n",
       "    <tr>\n",
       "      <td>2649378</td>\n",
       "      <td>NaN</td>\n",
       "      <td>NaN</td>\n",
       "      <td>NaN</td>\n",
       "      <td>NaN</td>\n",
       "      <td>NaN</td>\n",
       "      <td>NaN</td>\n",
       "      <td>3.0</td>\n",
       "      <td>3.0</td>\n",
       "      <td>NaN</td>\n",
       "      <td>NaN</td>\n",
       "      <td>...</td>\n",
       "      <td>NaN</td>\n",
       "      <td>NaN</td>\n",
       "      <td>NaN</td>\n",
       "      <td>NaN</td>\n",
       "      <td>NaN</td>\n",
       "      <td>NaN</td>\n",
       "      <td>NaN</td>\n",
       "      <td>NaN</td>\n",
       "      <td>NaN</td>\n",
       "      <td>NaN</td>\n",
       "    </tr>\n",
       "    <tr>\n",
       "      <td>2649388</td>\n",
       "      <td>NaN</td>\n",
       "      <td>NaN</td>\n",
       "      <td>NaN</td>\n",
       "      <td>NaN</td>\n",
       "      <td>NaN</td>\n",
       "      <td>NaN</td>\n",
       "      <td>NaN</td>\n",
       "      <td>3.0</td>\n",
       "      <td>NaN</td>\n",
       "      <td>NaN</td>\n",
       "      <td>...</td>\n",
       "      <td>3.0</td>\n",
       "      <td>NaN</td>\n",
       "      <td>NaN</td>\n",
       "      <td>3.0</td>\n",
       "      <td>NaN</td>\n",
       "      <td>3.0</td>\n",
       "      <td>NaN</td>\n",
       "      <td>NaN</td>\n",
       "      <td>NaN</td>\n",
       "      <td>NaN</td>\n",
       "    </tr>\n",
       "    <tr>\n",
       "      <td>2649426</td>\n",
       "      <td>NaN</td>\n",
       "      <td>NaN</td>\n",
       "      <td>NaN</td>\n",
       "      <td>4.0</td>\n",
       "      <td>NaN</td>\n",
       "      <td>NaN</td>\n",
       "      <td>4.0</td>\n",
       "      <td>4.0</td>\n",
       "      <td>NaN</td>\n",
       "      <td>NaN</td>\n",
       "      <td>...</td>\n",
       "      <td>NaN</td>\n",
       "      <td>NaN</td>\n",
       "      <td>NaN</td>\n",
       "      <td>NaN</td>\n",
       "      <td>NaN</td>\n",
       "      <td>NaN</td>\n",
       "      <td>NaN</td>\n",
       "      <td>NaN</td>\n",
       "      <td>NaN</td>\n",
       "      <td>NaN</td>\n",
       "    </tr>\n",
       "    <tr>\n",
       "      <td>2649429</td>\n",
       "      <td>NaN</td>\n",
       "      <td>NaN</td>\n",
       "      <td>NaN</td>\n",
       "      <td>NaN</td>\n",
       "      <td>NaN</td>\n",
       "      <td>NaN</td>\n",
       "      <td>NaN</td>\n",
       "      <td>5.0</td>\n",
       "      <td>NaN</td>\n",
       "      <td>NaN</td>\n",
       "      <td>...</td>\n",
       "      <td>NaN</td>\n",
       "      <td>NaN</td>\n",
       "      <td>NaN</td>\n",
       "      <td>NaN</td>\n",
       "      <td>NaN</td>\n",
       "      <td>NaN</td>\n",
       "      <td>NaN</td>\n",
       "      <td>NaN</td>\n",
       "      <td>NaN</td>\n",
       "      <td>NaN</td>\n",
       "    </tr>\n",
       "  </tbody>\n",
       "</table>\n",
       "<p>143458 rows × 1350 columns</p>\n",
       "</div>"
      ],
      "text/plain": [
       "Movie_Id  3     8     16    17    18    26    28    30    32    33    ...  \\\n",
       "Cust_Id                                                               ...   \n",
       "6          NaN   NaN   NaN   NaN   NaN   NaN   NaN   3.0   NaN   NaN  ...   \n",
       "7          NaN   5.0   NaN   NaN   NaN   NaN   4.0   5.0   NaN   NaN  ...   \n",
       "79         NaN   NaN   NaN   NaN   NaN   NaN   NaN   3.0   NaN   NaN  ...   \n",
       "97         NaN   NaN   NaN   NaN   NaN   NaN   NaN   NaN   NaN   NaN  ...   \n",
       "134        NaN   NaN   NaN   NaN   NaN   NaN   5.0   NaN   NaN   NaN  ...   \n",
       "...        ...   ...   ...   ...   ...   ...   ...   ...   ...   ...  ...   \n",
       "2649370    NaN   NaN   NaN   NaN   NaN   NaN   NaN   NaN   NaN   NaN  ...   \n",
       "2649378    NaN   NaN   NaN   NaN   NaN   NaN   3.0   3.0   NaN   NaN  ...   \n",
       "2649388    NaN   NaN   NaN   NaN   NaN   NaN   NaN   3.0   NaN   NaN  ...   \n",
       "2649426    NaN   NaN   NaN   4.0   NaN   NaN   4.0   4.0   NaN   NaN  ...   \n",
       "2649429    NaN   NaN   NaN   NaN   NaN   NaN   NaN   5.0   NaN   NaN  ...   \n",
       "\n",
       "Movie_Id  4472  4474  4478  4479  4485  4488  4490  4492  4493  4496  \n",
       "Cust_Id                                                               \n",
       "6          3.0   NaN   NaN   NaN   NaN   NaN   NaN   NaN   NaN   NaN  \n",
       "7          3.0   NaN   NaN   5.0   NaN   NaN   NaN   NaN   NaN   NaN  \n",
       "79         4.0   NaN   NaN   NaN   NaN   NaN   4.0   NaN   NaN   NaN  \n",
       "97         NaN   NaN   NaN   NaN   NaN   NaN   NaN   NaN   NaN   NaN  \n",
       "134        NaN   NaN   NaN   NaN   NaN   NaN   NaN   NaN   NaN   NaN  \n",
       "...        ...   ...   ...   ...   ...   ...   ...   ...   ...   ...  \n",
       "2649370    NaN   NaN   NaN   NaN   NaN   NaN   NaN   NaN   NaN   NaN  \n",
       "2649378    NaN   NaN   NaN   NaN   NaN   NaN   NaN   NaN   NaN   NaN  \n",
       "2649388    3.0   NaN   NaN   3.0   NaN   3.0   NaN   NaN   NaN   NaN  \n",
       "2649426    NaN   NaN   NaN   NaN   NaN   NaN   NaN   NaN   NaN   NaN  \n",
       "2649429    NaN   NaN   NaN   NaN   NaN   NaN   NaN   NaN   NaN   NaN  \n",
       "\n",
       "[143458 rows x 1350 columns]"
      ]
     },
     "execution_count": 11,
     "metadata": {},
     "output_type": "execute_result"
    }
   ],
   "source": [
    "df_p = pd.pivot_table(df, index='Cust_Id', columns='Movie_Id', values='Rating')\n",
    "df_p"
   ]
  },
  {
   "cell_type": "code",
   "execution_count": 12,
   "metadata": {
    "ExecuteTime": {
     "end_time": "2020-01-21T21:09:05.896640Z",
     "start_time": "2020-01-21T21:09:04.367905Z"
    }
   },
   "outputs": [
    {
     "data": {
      "text/html": [
       "<div>\n",
       "<style scoped>\n",
       "    .dataframe tbody tr th:only-of-type {\n",
       "        vertical-align: middle;\n",
       "    }\n",
       "\n",
       "    .dataframe tbody tr th {\n",
       "        vertical-align: top;\n",
       "    }\n",
       "\n",
       "    .dataframe thead th {\n",
       "        text-align: right;\n",
       "    }\n",
       "</style>\n",
       "<table border=\"1\" class=\"dataframe\">\n",
       "  <thead>\n",
       "    <tr style=\"text-align: right;\">\n",
       "      <th>Movie_Id</th>\n",
       "      <th>3</th>\n",
       "      <th>8</th>\n",
       "      <th>16</th>\n",
       "      <th>17</th>\n",
       "      <th>18</th>\n",
       "      <th>26</th>\n",
       "      <th>28</th>\n",
       "      <th>30</th>\n",
       "      <th>33</th>\n",
       "      <th>44</th>\n",
       "      <th>...</th>\n",
       "      <th>4454</th>\n",
       "      <th>4465</th>\n",
       "      <th>4472</th>\n",
       "      <th>4474</th>\n",
       "      <th>4479</th>\n",
       "      <th>4488</th>\n",
       "      <th>4490</th>\n",
       "      <th>4492</th>\n",
       "      <th>4493</th>\n",
       "      <th>4496</th>\n",
       "    </tr>\n",
       "    <tr>\n",
       "      <th>Cust_Id</th>\n",
       "      <th></th>\n",
       "      <th></th>\n",
       "      <th></th>\n",
       "      <th></th>\n",
       "      <th></th>\n",
       "      <th></th>\n",
       "      <th></th>\n",
       "      <th></th>\n",
       "      <th></th>\n",
       "      <th></th>\n",
       "      <th></th>\n",
       "      <th></th>\n",
       "      <th></th>\n",
       "      <th></th>\n",
       "      <th></th>\n",
       "      <th></th>\n",
       "      <th></th>\n",
       "      <th></th>\n",
       "      <th></th>\n",
       "      <th></th>\n",
       "      <th></th>\n",
       "    </tr>\n",
       "  </thead>\n",
       "  <tbody>\n",
       "    <tr>\n",
       "      <td>268</td>\n",
       "      <td>NaN</td>\n",
       "      <td>NaN</td>\n",
       "      <td>NaN</td>\n",
       "      <td>NaN</td>\n",
       "      <td>NaN</td>\n",
       "      <td>NaN</td>\n",
       "      <td>NaN</td>\n",
       "      <td>NaN</td>\n",
       "      <td>NaN</td>\n",
       "      <td>NaN</td>\n",
       "      <td>...</td>\n",
       "      <td>NaN</td>\n",
       "      <td>NaN</td>\n",
       "      <td>NaN</td>\n",
       "      <td>NaN</td>\n",
       "      <td>NaN</td>\n",
       "      <td>NaN</td>\n",
       "      <td>NaN</td>\n",
       "      <td>NaN</td>\n",
       "      <td>NaN</td>\n",
       "      <td>NaN</td>\n",
       "    </tr>\n",
       "    <tr>\n",
       "      <td>1082</td>\n",
       "      <td>NaN</td>\n",
       "      <td>NaN</td>\n",
       "      <td>NaN</td>\n",
       "      <td>NaN</td>\n",
       "      <td>NaN</td>\n",
       "      <td>NaN</td>\n",
       "      <td>NaN</td>\n",
       "      <td>NaN</td>\n",
       "      <td>NaN</td>\n",
       "      <td>NaN</td>\n",
       "      <td>...</td>\n",
       "      <td>NaN</td>\n",
       "      <td>NaN</td>\n",
       "      <td>NaN</td>\n",
       "      <td>NaN</td>\n",
       "      <td>NaN</td>\n",
       "      <td>NaN</td>\n",
       "      <td>NaN</td>\n",
       "      <td>NaN</td>\n",
       "      <td>NaN</td>\n",
       "      <td>NaN</td>\n",
       "    </tr>\n",
       "    <tr>\n",
       "      <td>3432</td>\n",
       "      <td>NaN</td>\n",
       "      <td>NaN</td>\n",
       "      <td>NaN</td>\n",
       "      <td>NaN</td>\n",
       "      <td>NaN</td>\n",
       "      <td>NaN</td>\n",
       "      <td>NaN</td>\n",
       "      <td>NaN</td>\n",
       "      <td>NaN</td>\n",
       "      <td>NaN</td>\n",
       "      <td>...</td>\n",
       "      <td>NaN</td>\n",
       "      <td>NaN</td>\n",
       "      <td>NaN</td>\n",
       "      <td>NaN</td>\n",
       "      <td>NaN</td>\n",
       "      <td>NaN</td>\n",
       "      <td>NaN</td>\n",
       "      <td>NaN</td>\n",
       "      <td>NaN</td>\n",
       "      <td>NaN</td>\n",
       "    </tr>\n",
       "    <tr>\n",
       "      <td>3458</td>\n",
       "      <td>NaN</td>\n",
       "      <td>NaN</td>\n",
       "      <td>NaN</td>\n",
       "      <td>NaN</td>\n",
       "      <td>NaN</td>\n",
       "      <td>NaN</td>\n",
       "      <td>NaN</td>\n",
       "      <td>NaN</td>\n",
       "      <td>NaN</td>\n",
       "      <td>NaN</td>\n",
       "      <td>...</td>\n",
       "      <td>NaN</td>\n",
       "      <td>NaN</td>\n",
       "      <td>NaN</td>\n",
       "      <td>NaN</td>\n",
       "      <td>NaN</td>\n",
       "      <td>NaN</td>\n",
       "      <td>NaN</td>\n",
       "      <td>NaN</td>\n",
       "      <td>NaN</td>\n",
       "      <td>NaN</td>\n",
       "    </tr>\n",
       "    <tr>\n",
       "      <td>3522</td>\n",
       "      <td>NaN</td>\n",
       "      <td>NaN</td>\n",
       "      <td>NaN</td>\n",
       "      <td>NaN</td>\n",
       "      <td>NaN</td>\n",
       "      <td>NaN</td>\n",
       "      <td>NaN</td>\n",
       "      <td>NaN</td>\n",
       "      <td>NaN</td>\n",
       "      <td>NaN</td>\n",
       "      <td>...</td>\n",
       "      <td>NaN</td>\n",
       "      <td>NaN</td>\n",
       "      <td>NaN</td>\n",
       "      <td>NaN</td>\n",
       "      <td>NaN</td>\n",
       "      <td>NaN</td>\n",
       "      <td>NaN</td>\n",
       "      <td>NaN</td>\n",
       "      <td>NaN</td>\n",
       "      <td>NaN</td>\n",
       "    </tr>\n",
       "    <tr>\n",
       "      <td>...</td>\n",
       "      <td>...</td>\n",
       "      <td>...</td>\n",
       "      <td>...</td>\n",
       "      <td>...</td>\n",
       "      <td>...</td>\n",
       "      <td>...</td>\n",
       "      <td>...</td>\n",
       "      <td>...</td>\n",
       "      <td>...</td>\n",
       "      <td>...</td>\n",
       "      <td>...</td>\n",
       "      <td>...</td>\n",
       "      <td>...</td>\n",
       "      <td>...</td>\n",
       "      <td>...</td>\n",
       "      <td>...</td>\n",
       "      <td>...</td>\n",
       "      <td>...</td>\n",
       "      <td>...</td>\n",
       "      <td>...</td>\n",
       "      <td>...</td>\n",
       "    </tr>\n",
       "    <tr>\n",
       "      <td>2646853</td>\n",
       "      <td>NaN</td>\n",
       "      <td>NaN</td>\n",
       "      <td>NaN</td>\n",
       "      <td>NaN</td>\n",
       "      <td>NaN</td>\n",
       "      <td>NaN</td>\n",
       "      <td>NaN</td>\n",
       "      <td>NaN</td>\n",
       "      <td>NaN</td>\n",
       "      <td>NaN</td>\n",
       "      <td>...</td>\n",
       "      <td>NaN</td>\n",
       "      <td>NaN</td>\n",
       "      <td>NaN</td>\n",
       "      <td>NaN</td>\n",
       "      <td>NaN</td>\n",
       "      <td>NaN</td>\n",
       "      <td>NaN</td>\n",
       "      <td>NaN</td>\n",
       "      <td>NaN</td>\n",
       "      <td>NaN</td>\n",
       "    </tr>\n",
       "    <tr>\n",
       "      <td>2646892</td>\n",
       "      <td>NaN</td>\n",
       "      <td>NaN</td>\n",
       "      <td>NaN</td>\n",
       "      <td>NaN</td>\n",
       "      <td>NaN</td>\n",
       "      <td>NaN</td>\n",
       "      <td>NaN</td>\n",
       "      <td>NaN</td>\n",
       "      <td>NaN</td>\n",
       "      <td>NaN</td>\n",
       "      <td>...</td>\n",
       "      <td>NaN</td>\n",
       "      <td>NaN</td>\n",
       "      <td>NaN</td>\n",
       "      <td>NaN</td>\n",
       "      <td>NaN</td>\n",
       "      <td>NaN</td>\n",
       "      <td>NaN</td>\n",
       "      <td>NaN</td>\n",
       "      <td>NaN</td>\n",
       "      <td>NaN</td>\n",
       "    </tr>\n",
       "    <tr>\n",
       "      <td>2648157</td>\n",
       "      <td>NaN</td>\n",
       "      <td>NaN</td>\n",
       "      <td>NaN</td>\n",
       "      <td>NaN</td>\n",
       "      <td>NaN</td>\n",
       "      <td>NaN</td>\n",
       "      <td>NaN</td>\n",
       "      <td>NaN</td>\n",
       "      <td>NaN</td>\n",
       "      <td>NaN</td>\n",
       "      <td>...</td>\n",
       "      <td>NaN</td>\n",
       "      <td>NaN</td>\n",
       "      <td>NaN</td>\n",
       "      <td>NaN</td>\n",
       "      <td>NaN</td>\n",
       "      <td>NaN</td>\n",
       "      <td>NaN</td>\n",
       "      <td>NaN</td>\n",
       "      <td>NaN</td>\n",
       "      <td>NaN</td>\n",
       "    </tr>\n",
       "    <tr>\n",
       "      <td>2649049</td>\n",
       "      <td>NaN</td>\n",
       "      <td>NaN</td>\n",
       "      <td>NaN</td>\n",
       "      <td>NaN</td>\n",
       "      <td>NaN</td>\n",
       "      <td>NaN</td>\n",
       "      <td>NaN</td>\n",
       "      <td>NaN</td>\n",
       "      <td>NaN</td>\n",
       "      <td>NaN</td>\n",
       "      <td>...</td>\n",
       "      <td>NaN</td>\n",
       "      <td>NaN</td>\n",
       "      <td>NaN</td>\n",
       "      <td>NaN</td>\n",
       "      <td>NaN</td>\n",
       "      <td>NaN</td>\n",
       "      <td>NaN</td>\n",
       "      <td>NaN</td>\n",
       "      <td>NaN</td>\n",
       "      <td>NaN</td>\n",
       "    </tr>\n",
       "    <tr>\n",
       "      <td>2649120</td>\n",
       "      <td>NaN</td>\n",
       "      <td>NaN</td>\n",
       "      <td>NaN</td>\n",
       "      <td>NaN</td>\n",
       "      <td>NaN</td>\n",
       "      <td>NaN</td>\n",
       "      <td>NaN</td>\n",
       "      <td>NaN</td>\n",
       "      <td>NaN</td>\n",
       "      <td>NaN</td>\n",
       "      <td>...</td>\n",
       "      <td>NaN</td>\n",
       "      <td>NaN</td>\n",
       "      <td>NaN</td>\n",
       "      <td>NaN</td>\n",
       "      <td>NaN</td>\n",
       "      <td>NaN</td>\n",
       "      <td>NaN</td>\n",
       "      <td>NaN</td>\n",
       "      <td>NaN</td>\n",
       "      <td>NaN</td>\n",
       "    </tr>\n",
       "  </tbody>\n",
       "</table>\n",
       "<p>6714 rows × 1090 columns</p>\n",
       "</div>"
      ],
      "text/plain": [
       "Movie_Id  3     8     16    17    18    26    28    30    33    44    ...  \\\n",
       "Cust_Id                                                               ...   \n",
       "268        NaN   NaN   NaN   NaN   NaN   NaN   NaN   NaN   NaN   NaN  ...   \n",
       "1082       NaN   NaN   NaN   NaN   NaN   NaN   NaN   NaN   NaN   NaN  ...   \n",
       "3432       NaN   NaN   NaN   NaN   NaN   NaN   NaN   NaN   NaN   NaN  ...   \n",
       "3458       NaN   NaN   NaN   NaN   NaN   NaN   NaN   NaN   NaN   NaN  ...   \n",
       "3522       NaN   NaN   NaN   NaN   NaN   NaN   NaN   NaN   NaN   NaN  ...   \n",
       "...        ...   ...   ...   ...   ...   ...   ...   ...   ...   ...  ...   \n",
       "2646853    NaN   NaN   NaN   NaN   NaN   NaN   NaN   NaN   NaN   NaN  ...   \n",
       "2646892    NaN   NaN   NaN   NaN   NaN   NaN   NaN   NaN   NaN   NaN  ...   \n",
       "2648157    NaN   NaN   NaN   NaN   NaN   NaN   NaN   NaN   NaN   NaN  ...   \n",
       "2649049    NaN   NaN   NaN   NaN   NaN   NaN   NaN   NaN   NaN   NaN  ...   \n",
       "2649120    NaN   NaN   NaN   NaN   NaN   NaN   NaN   NaN   NaN   NaN  ...   \n",
       "\n",
       "Movie_Id  4454  4465  4472  4474  4479  4488  4490  4492  4493  4496  \n",
       "Cust_Id                                                               \n",
       "268        NaN   NaN   NaN   NaN   NaN   NaN   NaN   NaN   NaN   NaN  \n",
       "1082       NaN   NaN   NaN   NaN   NaN   NaN   NaN   NaN   NaN   NaN  \n",
       "3432       NaN   NaN   NaN   NaN   NaN   NaN   NaN   NaN   NaN   NaN  \n",
       "3458       NaN   NaN   NaN   NaN   NaN   NaN   NaN   NaN   NaN   NaN  \n",
       "3522       NaN   NaN   NaN   NaN   NaN   NaN   NaN   NaN   NaN   NaN  \n",
       "...        ...   ...   ...   ...   ...   ...   ...   ...   ...   ...  \n",
       "2646853    NaN   NaN   NaN   NaN   NaN   NaN   NaN   NaN   NaN   NaN  \n",
       "2646892    NaN   NaN   NaN   NaN   NaN   NaN   NaN   NaN   NaN   NaN  \n",
       "2648157    NaN   NaN   NaN   NaN   NaN   NaN   NaN   NaN   NaN   NaN  \n",
       "2649049    NaN   NaN   NaN   NaN   NaN   NaN   NaN   NaN   NaN   NaN  \n",
       "2649120    NaN   NaN   NaN   NaN   NaN   NaN   NaN   NaN   NaN   NaN  \n",
       "\n",
       "[6714 rows x 1090 columns]"
      ]
     },
     "execution_count": 12,
     "metadata": {},
     "output_type": "execute_result"
    }
   ],
   "source": [
    "# We use a smaller dataset to avoid memory errors\n",
    "data = df_train.iloc[::2000, :]\n",
    "df_p_small = pd.pivot_table(data, index='Cust_Id', columns='Movie_Id', values='Rating')\n",
    "df_p_small"
   ]
  },
  {
   "cell_type": "markdown",
   "metadata": {},
   "source": [
    "# Recommender Systems"
   ]
  },
  {
   "cell_type": "markdown",
   "metadata": {},
   "source": [
    "## Mean Rating"
   ]
  },
  {
   "cell_type": "code",
   "execution_count": 13,
   "metadata": {
    "ExecuteTime": {
     "end_time": "2020-01-21T21:09:06.735575Z",
     "start_time": "2020-01-21T21:09:06.092684Z"
    },
    "scrolled": false
   },
   "outputs": [
    {
     "data": {
      "text/html": [
       "<div>\n",
       "<style scoped>\n",
       "    .dataframe tbody tr th:only-of-type {\n",
       "        vertical-align: middle;\n",
       "    }\n",
       "\n",
       "    .dataframe tbody tr th {\n",
       "        vertical-align: top;\n",
       "    }\n",
       "\n",
       "    .dataframe thead th {\n",
       "        text-align: right;\n",
       "    }\n",
       "</style>\n",
       "<table border=\"1\" class=\"dataframe\">\n",
       "  <thead>\n",
       "    <tr style=\"text-align: right;\">\n",
       "      <th></th>\n",
       "      <th>Name</th>\n",
       "      <th>Mean</th>\n",
       "    </tr>\n",
       "    <tr>\n",
       "      <th>Movie_Id</th>\n",
       "      <th></th>\n",
       "      <th></th>\n",
       "    </tr>\n",
       "  </thead>\n",
       "  <tbody>\n",
       "    <tr>\n",
       "      <td>3456</td>\n",
       "      <td>Lost: Season 1</td>\n",
       "      <td>4.661100</td>\n",
       "    </tr>\n",
       "    <tr>\n",
       "      <td>2102</td>\n",
       "      <td>The Simpsons: Season 6</td>\n",
       "      <td>4.588155</td>\n",
       "    </tr>\n",
       "    <tr>\n",
       "      <td>3444</td>\n",
       "      <td>Family Guy: Freakin' Sweet Collection</td>\n",
       "      <td>4.523465</td>\n",
       "    </tr>\n",
       "    <tr>\n",
       "      <td>4238</td>\n",
       "      <td>Inu-Yasha</td>\n",
       "      <td>4.462002</td>\n",
       "    </tr>\n",
       "    <tr>\n",
       "      <td>1476</td>\n",
       "      <td>Six Feet Under: Season 4</td>\n",
       "      <td>4.461650</td>\n",
       "    </tr>\n",
       "    <tr>\n",
       "      <td>1256</td>\n",
       "      <td>The Best of Friends: Vol. 4</td>\n",
       "      <td>4.445550</td>\n",
       "    </tr>\n",
       "    <tr>\n",
       "      <td>2452</td>\n",
       "      <td>Lord of the Rings: The Fellowship of the Ring</td>\n",
       "      <td>4.433316</td>\n",
       "    </tr>\n",
       "    <tr>\n",
       "      <td>1947</td>\n",
       "      <td>Gilmore Girls: Season 3</td>\n",
       "      <td>4.432909</td>\n",
       "    </tr>\n",
       "    <tr>\n",
       "      <td>4427</td>\n",
       "      <td>The West Wing: Season 3</td>\n",
       "      <td>4.428331</td>\n",
       "    </tr>\n",
       "    <tr>\n",
       "      <td>2568</td>\n",
       "      <td>Stargate SG-1: Season 8</td>\n",
       "      <td>4.425880</td>\n",
       "    </tr>\n",
       "  </tbody>\n",
       "</table>\n",
       "</div>"
      ],
      "text/plain": [
       "                                                   Name      Mean\n",
       "Movie_Id                                                         \n",
       "3456                                     Lost: Season 1  4.661100\n",
       "2102                             The Simpsons: Season 6  4.588155\n",
       "3444              Family Guy: Freakin' Sweet Collection  4.523465\n",
       "4238                                          Inu-Yasha  4.462002\n",
       "1476                           Six Feet Under: Season 4  4.461650\n",
       "1256                        The Best of Friends: Vol. 4  4.445550\n",
       "2452      Lord of the Rings: The Fellowship of the Ring  4.433316\n",
       "1947                            Gilmore Girls: Season 3  4.432909\n",
       "4427                            The West Wing: Season 3  4.428331\n",
       "2568                            Stargate SG-1: Season 8  4.425880"
      ]
     },
     "execution_count": 13,
     "metadata": {},
     "output_type": "execute_result"
    }
   ],
   "source": [
    "df_title_mean = pd.DataFrame(df_train.groupby('Movie_Id')['Rating'].mean())\n",
    "df_title_mean = df_title_mean.join(df_title.drop(columns='Year'))\n",
    "\n",
    "# Normal renaming doesn't work for some reason.\n",
    "df_title_mean['Mean'] = df_title_mean['Rating']\n",
    "df_title_mean = df_title_mean.drop(columns=['Rating'])\n",
    "\n",
    "df_title_mean.sort_values('Mean', ascending=False, inplace=True)\n",
    "\n",
    "df_title_mean.head(10)"
   ]
  },
  {
   "cell_type": "code",
   "execution_count": 14,
   "metadata": {
    "ExecuteTime": {
     "end_time": "2020-01-21T21:09:11.715286Z",
     "start_time": "2020-01-21T21:09:06.889459Z"
    }
   },
   "outputs": [
    {
     "data": {
      "image/png": "[encoded data removed]",
      "text/plain": [
       "<Figure size 648x720 with 1 Axes>"
      ]
     },
     "metadata": {
      "needs_background": "light"
     },
     "output_type": "display_data"
    }
   ],
   "source": [
    "temp = df_title_mean.iloc[::50, :]\n",
    "plt.figure(figsize=(9, 10))\n",
    "plt.title(\"Data Examples\", fontsize=18)\n",
    "plt.barh(temp['Name'], temp['Mean'])\n",
    "plt.show()"
   ]
  },
  {
   "cell_type": "code",
   "execution_count": 15,
   "metadata": {
    "ExecuteTime": {
     "end_time": "2020-01-21T21:09:14.120934Z",
     "start_time": "2020-01-21T21:09:11.870863Z"
    }
   },
   "outputs": [
    {
     "name": "stdout",
     "output_type": "stream",
     "text": [
      "RMSE: 0.994461\n"
     ]
    }
   ],
   "source": [
    "df_pred = df_test.set_index('Movie_Id').join(df_title_mean)[['Rating', 'Mean']]\n",
    "rmse_mean = math.sqrt(mean_squared_error(y_true=df_pred['Rating'], y_pred=df_pred['Mean']))\n",
    "\n",
    "print(f\"RMSE: {rmse_mean:f}\")"
   ]
  },
  {
   "cell_type": "markdown",
   "metadata": {},
   "source": [
    "## Weighted Mean Rating"
   ]
  },
  {
   "cell_type": "markdown",
   "metadata": {},
   "source": [
    "The most basic way to rank movies would be their rating but such a method is too simple and fails to account for other factors, such as the popularity of a movie, thus leading to skewed and unreliable results. Therefore it is often better if our ranking is a result of combining multiple factors. Here we use IMDb's formula:\n",
    "$$W = \\dfrac{R v + C m}{v + m}$$\n",
    "Where:\n",
    "<ul>\n",
    "    <li>$W$ = weighted rating</li>\n",
    "    <li>$R$ = average for the movie (mean) = (rating)</li>\n",
    "    <li>$v$ = number of votes for the movie = (votes)</li>\n",
    "    <li>$m$ = minimum votes required to be listed in the Top Rated list</li>\n",
    "    <li>$C$ = the mean vote across the whole report</li>\n",
    "</ul>"
   ]
  },
  {
   "cell_type": "code",
   "execution_count": 16,
   "metadata": {
    "ExecuteTime": {
     "end_time": "2020-01-21T21:09:17.088792Z",
     "start_time": "2020-01-21T21:09:14.346984Z"
    }
   },
   "outputs": [
    {
     "name": "stdout",
     "output_type": "stream",
     "text": [
      "m = 27944.800000\n",
      "C = 3.485677\n"
     ]
    },
    {
     "data": {
      "text/html": [
       "<div>\n",
       "<style scoped>\n",
       "    .dataframe tbody tr th:only-of-type {\n",
       "        vertical-align: middle;\n",
       "    }\n",
       "\n",
       "    .dataframe tbody tr th {\n",
       "        vertical-align: top;\n",
       "    }\n",
       "\n",
       "    .dataframe thead th {\n",
       "        text-align: right;\n",
       "    }\n",
       "</style>\n",
       "<table border=\"1\" class=\"dataframe\">\n",
       "  <thead>\n",
       "    <tr style=\"text-align: right;\">\n",
       "      <th></th>\n",
       "      <th>weighted_rating</th>\n",
       "      <th>Name</th>\n",
       "    </tr>\n",
       "    <tr>\n",
       "      <th>Movie_Id</th>\n",
       "      <th></th>\n",
       "      <th></th>\n",
       "    </tr>\n",
       "  </thead>\n",
       "  <tbody>\n",
       "    <tr>\n",
       "      <td>2452</td>\n",
       "      <td>4.193170</td>\n",
       "      <td>Lord of the Rings: The Fellowship of the Ring</td>\n",
       "    </tr>\n",
       "    <tr>\n",
       "      <td>3962</td>\n",
       "      <td>4.148703</td>\n",
       "      <td>Finding Nemo (Widescreen)</td>\n",
       "    </tr>\n",
       "    <tr>\n",
       "      <td>4306</td>\n",
       "      <td>4.104791</td>\n",
       "      <td>The Sixth Sense</td>\n",
       "    </tr>\n",
       "    <tr>\n",
       "      <td>2862</td>\n",
       "      <td>4.084403</td>\n",
       "      <td>The Silence of the Lambs</td>\n",
       "    </tr>\n",
       "    <tr>\n",
       "      <td>2782</td>\n",
       "      <td>4.051759</td>\n",
       "      <td>Braveheart</td>\n",
       "    </tr>\n",
       "    <tr>\n",
       "      <td>3290</td>\n",
       "      <td>4.034834</td>\n",
       "      <td>The Godfather</td>\n",
       "    </tr>\n",
       "    <tr>\n",
       "      <td>1905</td>\n",
       "      <td>3.995032</td>\n",
       "      <td>Pirates of the Caribbean: The Curse of the Bla...</td>\n",
       "    </tr>\n",
       "    <tr>\n",
       "      <td>3938</td>\n",
       "      <td>3.948087</td>\n",
       "      <td>Shrek 2</td>\n",
       "    </tr>\n",
       "    <tr>\n",
       "      <td>886</td>\n",
       "      <td>3.911413</td>\n",
       "      <td>Ray</td>\n",
       "    </tr>\n",
       "    <tr>\n",
       "      <td>3605</td>\n",
       "      <td>3.911147</td>\n",
       "      <td>The Wizard of Oz: Collector's Edition</td>\n",
       "    </tr>\n",
       "  </tbody>\n",
       "</table>\n",
       "</div>"
      ],
      "text/plain": [
       "          weighted_rating                                               Name\n",
       "Movie_Id                                                                    \n",
       "2452             4.193170      Lord of the Rings: The Fellowship of the Ring\n",
       "3962             4.148703                          Finding Nemo (Widescreen)\n",
       "4306             4.104791                                    The Sixth Sense\n",
       "2862             4.084403                           The Silence of the Lambs\n",
       "2782             4.051759                                         Braveheart\n",
       "3290             4.034834                                      The Godfather\n",
       "1905             3.995032  Pirates of the Caribbean: The Curse of the Bla...\n",
       "3938             3.948087                                            Shrek 2\n",
       "886              3.911413                                                Ray\n",
       "3605             3.911147              The Wizard of Oz: Collector's Edition"
      ]
     },
     "execution_count": 16,
     "metadata": {},
     "output_type": "execute_result"
    }
   ],
   "source": [
    "df_movie_summary = df_train.groupby('Movie_Id')['Rating'].agg(['count', 'mean'])\n",
    "\n",
    "m = df_movie_summary['count'].quantile(0.9)\n",
    "print(f\"m = {m:f}\")\n",
    "\n",
    "C = stats.mean(df_movie_summary['mean'])\n",
    "print(f\"C = {C:f}\")\n",
    "\n",
    "df_title_wr = df_movie_summary.drop(columns=['count', 'mean'])\n",
    "df_title_wr['weighted_rating'] = (df_movie_summary['mean']*df_movie_summary['count'] + C*m)/(df_movie_summary['count'] + m)\n",
    "df_title_wr = df_title_wr.join(df_title.drop(columns=['Year']))\n",
    "\n",
    "df_title_wr.sort_values('weighted_rating', ascending=False, inplace=True)\n",
    "\n",
    "df_title_wr.head(10)"
   ]
  },
  {
   "cell_type": "code",
   "execution_count": 17,
   "metadata": {
    "ExecuteTime": {
     "end_time": "2020-01-21T21:09:17.569910Z",
     "start_time": "2020-01-21T21:09:17.287837Z"
    }
   },
   "outputs": [
    {
     "data": {
      "image/png": "[encoded data removed]",
      "text/plain": [
       "<Figure size 648x720 with 1 Axes>"
      ]
     },
     "metadata": {
      "needs_background": "light"
     },
     "output_type": "display_data"
    }
   ],
   "source": [
    "temp = df_title_wr.iloc[::50, :]\n",
    "plt.figure(figsize=(9, 10))\n",
    "plt.title(\"Data Examples\", fontsize=18)\n",
    "plt.barh(temp['Name'], temp['weighted_rating'])\n",
    "plt.show()"
   ]
  },
  {
   "cell_type": "code",
   "execution_count": 18,
   "metadata": {
    "ExecuteTime": {
     "end_time": "2020-01-21T21:09:18.742626Z",
     "start_time": "2020-01-21T21:09:17.740938Z"
    }
   },
   "outputs": [
    {
     "name": "stdout",
     "output_type": "stream",
     "text": [
      "RMSE: 1.022808\n"
     ]
    }
   ],
   "source": [
    "df_pred = df_test.set_index('Movie_Id').join(df_title_wr)[['Rating', 'weighted_rating']]\n",
    "rmse_weighted_mean = math.sqrt(mean_squared_error(y_true=df_pred['Rating'], y_pred=df_pred['weighted_rating']))\n",
    "\n",
    "print(f\"RMSE: {rmse_weighted_mean:f}\")"
   ]
  },
  {
   "cell_type": "markdown",
   "metadata": {},
   "source": [
    "## Cosine User-User Similarity"
   ]
  },
  {
   "cell_type": "code",
   "execution_count": 72,
   "metadata": {
    "ExecuteTime": {
     "end_time": "2020-01-21T21:40:56.091924Z",
     "start_time": "2020-01-21T21:40:53.817271Z"
    }
   },
   "outputs": [],
   "source": [
    "# User index for recommendation\n",
    "cust_index = 2_568\n",
    "\n",
    "# Number of similar users for recommendation\n",
    "n_recommendation = 100\n",
    "\n",
    "# Plot top n recommendations\n",
    "n_plot = 10\n",
    "\n",
    "# Fill in missing values\n",
    "df_p_imputed = df_p_small.T.fillna(df_p_small.mean(axis=1)).T\n",
    "\n",
    "# Compute similarity between all users\n",
    "similarity = cosine_similarity(df_p_imputed.values)\n",
    "\n",
    "# Remove self-similarity from similarity-matrix\n",
    "similarity -= np.eye(similarity.shape[0])\n",
    "\n",
    "# Sort similar users by index\n",
    "similar_cust_index = np.argsort(similarity[cust_index])[::-1]\n",
    "# Sort similar users by score\n",
    "similar_cust_score = np.sort(similarity[cust_index])[::-1]\n",
    "\n",
    "# Get unrated movies\n",
    "unrated_movies = df_p_small.iloc[cust_index][df_p.iloc[cust_index].isna()].index\n",
    "\n",
    "# Weight ratings of the top n most similar users with their rating and compute the mean for each movie\n",
    "mean_movie_recommendations = (df_p_imputed.iloc[similar_cust_index[:n_recommendation]].T * similar_cust_score[:n_recommendation]).T.mean(axis=0)\n",
    "\n",
    "# Filter for unrated movies and sort results\n",
    "best_movie_recommendations = mean_movie_recommendations[unrated_movies].sort_values(ascending=False).to_frame().join(df_title)\n",
    "\n",
    "\n",
    "# Create user-id mapping\n",
    "cust_id_mapping = {id:i for i, id in enumerate(df_p_imputed.index)}"
   ]
  },
  {
   "cell_type": "code",
   "execution_count": 73,
   "metadata": {
    "ExecuteTime": {
     "end_time": "2020-01-21T21:41:05.342117Z",
     "start_time": "2020-01-21T21:40:56.740617Z"
    }
   },
   "outputs": [],
   "source": [
    "prediction = []\n",
    "# Iterate over all testset items\n",
    "for cust_id in data['Cust_Id'].unique():\n",
    "    # Sort similar users by index\n",
    "    similar_cust_index = np.argsort(similarity[cust_id_mapping[cust_id]])[::-1]\n",
    "    # Sort similar users by score\n",
    "    similar_cust_score = np.sort(similarity[cust_id_mapping[cust_id]])[::-1]\n",
    "    \n",
    "    for movie_id in data[data['Cust_Id']==cust_id]['Movie_Id'].values:\n",
    "\n",
    "        # Compute predicted score\n",
    "        score = (df_p_imputed.iloc[similar_cust_index[:n_recommendation]][movie_id] * similar_cust_score[:n_recommendation]).values.sum() / similar_cust_score[:n_recommendation].sum()\n",
    "        prediction.append([cust_id, movie_id, score])"
   ]
  },
  {
   "cell_type": "code",
   "execution_count": 74,
   "metadata": {
    "ExecuteTime": {
     "end_time": "2020-01-21T21:41:05.958237Z",
     "start_time": "2020-01-21T21:41:05.947449Z"
    }
   },
   "outputs": [
    {
     "name": "stdout",
     "output_type": "stream",
     "text": [
      "Ranking Of Top 10 Recommended Movies For A User Based On Similarity\n"
     ]
    },
    {
     "data": {
      "text/html": [
       "<div>\n",
       "<style scoped>\n",
       "    .dataframe tbody tr th:only-of-type {\n",
       "        vertical-align: middle;\n",
       "    }\n",
       "\n",
       "    .dataframe tbody tr th {\n",
       "        vertical-align: top;\n",
       "    }\n",
       "\n",
       "    .dataframe thead th {\n",
       "        text-align: right;\n",
       "    }\n",
       "</style>\n",
       "<table border=\"1\" class=\"dataframe\">\n",
       "  <thead>\n",
       "    <tr style=\"text-align: right;\">\n",
       "      <th></th>\n",
       "      <th>0</th>\n",
       "      <th>Year</th>\n",
       "      <th>Name</th>\n",
       "    </tr>\n",
       "    <tr>\n",
       "      <th>Movie_Id</th>\n",
       "      <th></th>\n",
       "      <th></th>\n",
       "      <th></th>\n",
       "    </tr>\n",
       "  </thead>\n",
       "  <tbody>\n",
       "    <tr>\n",
       "      <td>4496</td>\n",
       "      <td>3.58</td>\n",
       "      <td>1993.0</td>\n",
       "      <td>Farewell My Concubine</td>\n",
       "    </tr>\n",
       "    <tr>\n",
       "      <td>1395</td>\n",
       "      <td>3.58</td>\n",
       "      <td>1963.0</td>\n",
       "      <td>Charade</td>\n",
       "    </tr>\n",
       "    <tr>\n",
       "      <td>1561</td>\n",
       "      <td>3.58</td>\n",
       "      <td>2003.0</td>\n",
       "      <td>American Wedding</td>\n",
       "    </tr>\n",
       "    <tr>\n",
       "      <td>1558</td>\n",
       "      <td>3.58</td>\n",
       "      <td>1990.0</td>\n",
       "      <td>Rocky V</td>\n",
       "    </tr>\n",
       "    <tr>\n",
       "      <td>1553</td>\n",
       "      <td>3.58</td>\n",
       "      <td>1995.0</td>\n",
       "      <td>Persuasion</td>\n",
       "    </tr>\n",
       "    <tr>\n",
       "      <td>1547</td>\n",
       "      <td>3.58</td>\n",
       "      <td>1939.0</td>\n",
       "      <td>The Women</td>\n",
       "    </tr>\n",
       "    <tr>\n",
       "      <td>1543</td>\n",
       "      <td>3.58</td>\n",
       "      <td>1995.0</td>\n",
       "      <td>Nick of Time</td>\n",
       "    </tr>\n",
       "    <tr>\n",
       "      <td>1542</td>\n",
       "      <td>3.58</td>\n",
       "      <td>1993.0</td>\n",
       "      <td>Sleepless in Seattle</td>\n",
       "    </tr>\n",
       "    <tr>\n",
       "      <td>1532</td>\n",
       "      <td>3.58</td>\n",
       "      <td>1992.0</td>\n",
       "      <td>Mo' Money</td>\n",
       "    </tr>\n",
       "    <tr>\n",
       "      <td>1530</td>\n",
       "      <td>3.58</td>\n",
       "      <td>2002.0</td>\n",
       "      <td>Rose Red</td>\n",
       "    </tr>\n",
       "  </tbody>\n",
       "</table>\n",
       "</div>"
      ],
      "text/plain": [
       "             0    Year                   Name\n",
       "Movie_Id                                     \n",
       "4496      3.58  1993.0  Farewell My Concubine\n",
       "1395      3.58  1963.0                Charade\n",
       "1561      3.58  2003.0       American Wedding\n",
       "1558      3.58  1990.0                Rocky V\n",
       "1553      3.58  1995.0             Persuasion\n",
       "1547      3.58  1939.0              The Women\n",
       "1543      3.58  1995.0           Nick of Time\n",
       "1542      3.58  1993.0   Sleepless in Seattle\n",
       "1532      3.58  1992.0              Mo' Money\n",
       "1530      3.58  2002.0               Rose Red"
      ]
     },
     "execution_count": 74,
     "metadata": {},
     "output_type": "execute_result"
    }
   ],
   "source": [
    "print(f\"Ranking Of Top {n_plot} Recommended Movies For A User Based On Similarity\")\n",
    "best_movie_recommendations.head(n_plot)"
   ]
  },
  {
   "cell_type": "code",
   "execution_count": 75,
   "metadata": {
    "ExecuteTime": {
     "end_time": "2020-01-21T21:41:06.580004Z",
     "start_time": "2020-01-21T21:41:06.552885Z"
    }
   },
   "outputs": [
    {
     "name": "stdout",
     "output_type": "stream",
     "text": [
      "RMSE: 1.076555\n"
     ]
    }
   ],
   "source": [
    "# Create prediction DataFrame\n",
    "df_pred = pd.DataFrame(prediction, columns=['Cust_Id', 'Movie_Id', 'Prediction']).set_index(['Cust_Id', 'Movie_Id'])\n",
    "df_pred = data.set_index(['Cust_Id', 'Movie_Id']).join(df_pred)\n",
    "\n",
    "# Get labels and predictions\n",
    "y_true = df_pred['Rating'].values\n",
    "y_pred = df_pred['Prediction'].values\n",
    "\n",
    "# Compute RMSE\n",
    "rmse_uu_cos = np.sqrt(mean_squared_error(y_true=y_true, y_pred=y_pred))\n",
    "\n",
    "print(f\"RMSE: {rmse_uu_cos:f}\")"
   ]
  },
  {
   "cell_type": "markdown",
   "metadata": {},
   "source": [
    "## Cosine Similarity"
   ]
  },
  {
   "cell_type": "code",
   "execution_count": 21,
   "metadata": {
    "ExecuteTime": {
     "end_time": "2020-01-21T21:12:21.647701Z",
     "start_time": "2020-01-21T21:12:21.644700Z"
    }
   },
   "outputs": [],
   "source": [
    "def my_cosine_similarity(text):\n",
    "    vectorizer = CountVectorizer()\n",
    "    x = vectorizer.fit_transform(text)\n",
    "    \n",
    "    return cosine_similarity(x)"
   ]
  },
  {
   "cell_type": "code",
   "execution_count": 22,
   "metadata": {
    "ExecuteTime": {
     "end_time": "2020-01-21T21:12:22.446166Z",
     "start_time": "2020-01-21T21:12:21.980785Z"
    }
   },
   "outputs": [],
   "source": [
    "#The features based on which we want to recommend movies and TV shows\n",
    "\n",
    "features = ['title', 'director', 'cast', 'listed_in']\n",
    "\n",
    "for feature in features:\n",
    "    df_netflix_titles[feature] = df_netflix_titles[feature].fillna('') #fill the NaN values with blank strings\n",
    "\n",
    "def combine_features(row):\n",
    "    return row['title'] +\" \"+row['director']+\" \"+row['cast']+\" \"+row['listed_in']\n",
    "\n",
    "df_netflix_titles[\"combined_features\"] = df_netflix_titles.apply(combine_features, axis=1)"
   ]
  },
  {
   "cell_type": "code",
   "execution_count": 23,
   "metadata": {
    "ExecuteTime": {
     "end_time": "2020-01-21T21:12:23.542431Z",
     "start_time": "2020-01-21T21:12:22.648353Z"
    }
   },
   "outputs": [
    {
     "data": {
      "text/html": [
       "<div>\n",
       "<style scoped>\n",
       "    .dataframe tbody tr th:only-of-type {\n",
       "        vertical-align: middle;\n",
       "    }\n",
       "\n",
       "    .dataframe tbody tr th {\n",
       "        vertical-align: top;\n",
       "    }\n",
       "\n",
       "    .dataframe thead th {\n",
       "        text-align: right;\n",
       "    }\n",
       "</style>\n",
       "<table border=\"1\" class=\"dataframe\">\n",
       "  <thead>\n",
       "    <tr style=\"text-align: right;\">\n",
       "      <th></th>\n",
       "      <th>0</th>\n",
       "      <th>1</th>\n",
       "      <th>2</th>\n",
       "      <th>3</th>\n",
       "      <th>4</th>\n",
       "      <th>5</th>\n",
       "      <th>6</th>\n",
       "      <th>7</th>\n",
       "      <th>8</th>\n",
       "      <th>9</th>\n",
       "      <th>...</th>\n",
       "      <th>5827</th>\n",
       "      <th>5828</th>\n",
       "      <th>5829</th>\n",
       "      <th>5830</th>\n",
       "      <th>5831</th>\n",
       "      <th>5832</th>\n",
       "      <th>5833</th>\n",
       "      <th>5834</th>\n",
       "      <th>5835</th>\n",
       "      <th>5836</th>\n",
       "    </tr>\n",
       "  </thead>\n",
       "  <tbody>\n",
       "    <tr>\n",
       "      <td>0</td>\n",
       "      <td>1.000000</td>\n",
       "      <td>0.037662</td>\n",
       "      <td>0.027566</td>\n",
       "      <td>0.026631</td>\n",
       "      <td>0.085819</td>\n",
       "      <td>0.028072</td>\n",
       "      <td>0.029173</td>\n",
       "      <td>0.029173</td>\n",
       "      <td>0.357791</td>\n",
       "      <td>0.022244</td>\n",
       "      <td>...</td>\n",
       "      <td>0.000000</td>\n",
       "      <td>0.000000</td>\n",
       "      <td>0.000000</td>\n",
       "      <td>0.000000</td>\n",
       "      <td>0.024311</td>\n",
       "      <td>0.000000</td>\n",
       "      <td>0.000000</td>\n",
       "      <td>0.025016</td>\n",
       "      <td>0.154713</td>\n",
       "      <td>0.000000</td>\n",
       "    </tr>\n",
       "    <tr>\n",
       "      <td>1</td>\n",
       "      <td>0.037662</td>\n",
       "      <td>1.000000</td>\n",
       "      <td>0.146385</td>\n",
       "      <td>0.141421</td>\n",
       "      <td>0.000000</td>\n",
       "      <td>0.099381</td>\n",
       "      <td>0.154919</td>\n",
       "      <td>0.206559</td>\n",
       "      <td>0.066667</td>\n",
       "      <td>0.078750</td>\n",
       "      <td>...</td>\n",
       "      <td>0.202548</td>\n",
       "      <td>0.000000</td>\n",
       "      <td>0.052705</td>\n",
       "      <td>0.073771</td>\n",
       "      <td>0.172133</td>\n",
       "      <td>0.086066</td>\n",
       "      <td>0.062622</td>\n",
       "      <td>0.088561</td>\n",
       "      <td>0.000000</td>\n",
       "      <td>0.052705</td>\n",
       "    </tr>\n",
       "    <tr>\n",
       "      <td>2</td>\n",
       "      <td>0.027566</td>\n",
       "      <td>0.146385</td>\n",
       "      <td>1.000000</td>\n",
       "      <td>0.138013</td>\n",
       "      <td>0.000000</td>\n",
       "      <td>0.109109</td>\n",
       "      <td>0.151186</td>\n",
       "      <td>0.151186</td>\n",
       "      <td>0.024398</td>\n",
       "      <td>0.086459</td>\n",
       "      <td>...</td>\n",
       "      <td>0.111187</td>\n",
       "      <td>0.056980</td>\n",
       "      <td>0.038576</td>\n",
       "      <td>0.053995</td>\n",
       "      <td>0.125988</td>\n",
       "      <td>0.062994</td>\n",
       "      <td>0.045835</td>\n",
       "      <td>0.097231</td>\n",
       "      <td>0.000000</td>\n",
       "      <td>0.077152</td>\n",
       "    </tr>\n",
       "    <tr>\n",
       "      <td>3</td>\n",
       "      <td>0.026631</td>\n",
       "      <td>0.141421</td>\n",
       "      <td>0.138013</td>\n",
       "      <td>1.000000</td>\n",
       "      <td>0.000000</td>\n",
       "      <td>0.105409</td>\n",
       "      <td>0.255604</td>\n",
       "      <td>0.146059</td>\n",
       "      <td>0.023570</td>\n",
       "      <td>0.083527</td>\n",
       "      <td>...</td>\n",
       "      <td>0.107417</td>\n",
       "      <td>0.055048</td>\n",
       "      <td>0.037268</td>\n",
       "      <td>0.078246</td>\n",
       "      <td>0.121716</td>\n",
       "      <td>0.121716</td>\n",
       "      <td>0.088561</td>\n",
       "      <td>0.125245</td>\n",
       "      <td>0.000000</td>\n",
       "      <td>0.149071</td>\n",
       "    </tr>\n",
       "    <tr>\n",
       "      <td>4</td>\n",
       "      <td>0.085819</td>\n",
       "      <td>0.000000</td>\n",
       "      <td>0.000000</td>\n",
       "      <td>0.000000</td>\n",
       "      <td>1.000000</td>\n",
       "      <td>0.000000</td>\n",
       "      <td>0.000000</td>\n",
       "      <td>0.000000</td>\n",
       "      <td>0.075955</td>\n",
       "      <td>0.000000</td>\n",
       "      <td>...</td>\n",
       "      <td>0.000000</td>\n",
       "      <td>0.000000</td>\n",
       "      <td>0.000000</td>\n",
       "      <td>0.000000</td>\n",
       "      <td>0.000000</td>\n",
       "      <td>0.000000</td>\n",
       "      <td>0.000000</td>\n",
       "      <td>0.000000</td>\n",
       "      <td>0.000000</td>\n",
       "      <td>0.040032</td>\n",
       "    </tr>\n",
       "    <tr>\n",
       "      <td>...</td>\n",
       "      <td>...</td>\n",
       "      <td>...</td>\n",
       "      <td>...</td>\n",
       "      <td>...</td>\n",
       "      <td>...</td>\n",
       "      <td>...</td>\n",
       "      <td>...</td>\n",
       "      <td>...</td>\n",
       "      <td>...</td>\n",
       "      <td>...</td>\n",
       "      <td>...</td>\n",
       "      <td>...</td>\n",
       "      <td>...</td>\n",
       "      <td>...</td>\n",
       "      <td>...</td>\n",
       "      <td>...</td>\n",
       "      <td>...</td>\n",
       "      <td>...</td>\n",
       "      <td>...</td>\n",
       "      <td>...</td>\n",
       "      <td>...</td>\n",
       "    </tr>\n",
       "    <tr>\n",
       "      <td>5832</td>\n",
       "      <td>0.000000</td>\n",
       "      <td>0.086066</td>\n",
       "      <td>0.062994</td>\n",
       "      <td>0.121716</td>\n",
       "      <td>0.000000</td>\n",
       "      <td>0.064150</td>\n",
       "      <td>0.133333</td>\n",
       "      <td>0.066667</td>\n",
       "      <td>0.000000</td>\n",
       "      <td>0.050833</td>\n",
       "      <td>...</td>\n",
       "      <td>0.098058</td>\n",
       "      <td>0.000000</td>\n",
       "      <td>0.034021</td>\n",
       "      <td>0.047619</td>\n",
       "      <td>0.055556</td>\n",
       "      <td>1.000000</td>\n",
       "      <td>0.161690</td>\n",
       "      <td>0.057166</td>\n",
       "      <td>0.000000</td>\n",
       "      <td>0.102062</td>\n",
       "    </tr>\n",
       "    <tr>\n",
       "      <td>5833</td>\n",
       "      <td>0.000000</td>\n",
       "      <td>0.062622</td>\n",
       "      <td>0.045835</td>\n",
       "      <td>0.088561</td>\n",
       "      <td>0.000000</td>\n",
       "      <td>0.046676</td>\n",
       "      <td>0.097014</td>\n",
       "      <td>0.048507</td>\n",
       "      <td>0.000000</td>\n",
       "      <td>0.036986</td>\n",
       "      <td>...</td>\n",
       "      <td>0.047565</td>\n",
       "      <td>0.000000</td>\n",
       "      <td>0.000000</td>\n",
       "      <td>0.069296</td>\n",
       "      <td>0.040423</td>\n",
       "      <td>0.161690</td>\n",
       "      <td>1.000000</td>\n",
       "      <td>0.041595</td>\n",
       "      <td>0.000000</td>\n",
       "      <td>0.049507</td>\n",
       "    </tr>\n",
       "    <tr>\n",
       "      <td>5834</td>\n",
       "      <td>0.025016</td>\n",
       "      <td>0.088561</td>\n",
       "      <td>0.097231</td>\n",
       "      <td>0.125245</td>\n",
       "      <td>0.000000</td>\n",
       "      <td>0.066010</td>\n",
       "      <td>0.137199</td>\n",
       "      <td>0.137199</td>\n",
       "      <td>0.022140</td>\n",
       "      <td>0.052307</td>\n",
       "      <td>...</td>\n",
       "      <td>0.067267</td>\n",
       "      <td>0.051709</td>\n",
       "      <td>0.035007</td>\n",
       "      <td>0.049000</td>\n",
       "      <td>0.085749</td>\n",
       "      <td>0.057166</td>\n",
       "      <td>0.041595</td>\n",
       "      <td>1.000000</td>\n",
       "      <td>0.000000</td>\n",
       "      <td>0.070014</td>\n",
       "    </tr>\n",
       "    <tr>\n",
       "      <td>5835</td>\n",
       "      <td>0.154713</td>\n",
       "      <td>0.000000</td>\n",
       "      <td>0.000000</td>\n",
       "      <td>0.000000</td>\n",
       "      <td>0.000000</td>\n",
       "      <td>0.000000</td>\n",
       "      <td>0.000000</td>\n",
       "      <td>0.000000</td>\n",
       "      <td>0.136931</td>\n",
       "      <td>0.000000</td>\n",
       "      <td>...</td>\n",
       "      <td>0.000000</td>\n",
       "      <td>0.000000</td>\n",
       "      <td>0.000000</td>\n",
       "      <td>0.000000</td>\n",
       "      <td>0.000000</td>\n",
       "      <td>0.000000</td>\n",
       "      <td>0.000000</td>\n",
       "      <td>0.000000</td>\n",
       "      <td>1.000000</td>\n",
       "      <td>0.000000</td>\n",
       "    </tr>\n",
       "    <tr>\n",
       "      <td>5836</td>\n",
       "      <td>0.000000</td>\n",
       "      <td>0.052705</td>\n",
       "      <td>0.077152</td>\n",
       "      <td>0.149071</td>\n",
       "      <td>0.040032</td>\n",
       "      <td>0.078567</td>\n",
       "      <td>0.163299</td>\n",
       "      <td>0.081650</td>\n",
       "      <td>0.000000</td>\n",
       "      <td>0.031129</td>\n",
       "      <td>...</td>\n",
       "      <td>0.120096</td>\n",
       "      <td>0.061546</td>\n",
       "      <td>0.083333</td>\n",
       "      <td>0.145803</td>\n",
       "      <td>0.068041</td>\n",
       "      <td>0.102062</td>\n",
       "      <td>0.049507</td>\n",
       "      <td>0.070014</td>\n",
       "      <td>0.000000</td>\n",
       "      <td>1.000000</td>\n",
       "    </tr>\n",
       "  </tbody>\n",
       "</table>\n",
       "<p>5837 rows × 5837 columns</p>\n",
       "</div>"
      ],
      "text/plain": [
       "          0         1         2         3         4         5         6     \\\n",
       "0     1.000000  0.037662  0.027566  0.026631  0.085819  0.028072  0.029173   \n",
       "1     0.037662  1.000000  0.146385  0.141421  0.000000  0.099381  0.154919   \n",
       "2     0.027566  0.146385  1.000000  0.138013  0.000000  0.109109  0.151186   \n",
       "3     0.026631  0.141421  0.138013  1.000000  0.000000  0.105409  0.255604   \n",
       "4     0.085819  0.000000  0.000000  0.000000  1.000000  0.000000  0.000000   \n",
       "...        ...       ...       ...       ...       ...       ...       ...   \n",
       "5832  0.000000  0.086066  0.062994  0.121716  0.000000  0.064150  0.133333   \n",
       "5833  0.000000  0.062622  0.045835  0.088561  0.000000  0.046676  0.097014   \n",
       "5834  0.025016  0.088561  0.097231  0.125245  0.000000  0.066010  0.137199   \n",
       "5835  0.154713  0.000000  0.000000  0.000000  0.000000  0.000000  0.000000   \n",
       "5836  0.000000  0.052705  0.077152  0.149071  0.040032  0.078567  0.163299   \n",
       "\n",
       "          7         8         9     ...      5827      5828      5829  \\\n",
       "0     0.029173  0.357791  0.022244  ...  0.000000  0.000000  0.000000   \n",
       "1     0.206559  0.066667  0.078750  ...  0.202548  0.000000  0.052705   \n",
       "2     0.151186  0.024398  0.086459  ...  0.111187  0.056980  0.038576   \n",
       "3     0.146059  0.023570  0.083527  ...  0.107417  0.055048  0.037268   \n",
       "4     0.000000  0.075955  0.000000  ...  0.000000  0.000000  0.000000   \n",
       "...        ...       ...       ...  ...       ...       ...       ...   \n",
       "5832  0.066667  0.000000  0.050833  ...  0.098058  0.000000  0.034021   \n",
       "5833  0.048507  0.000000  0.036986  ...  0.047565  0.000000  0.000000   \n",
       "5834  0.137199  0.022140  0.052307  ...  0.067267  0.051709  0.035007   \n",
       "5835  0.000000  0.136931  0.000000  ...  0.000000  0.000000  0.000000   \n",
       "5836  0.081650  0.000000  0.031129  ...  0.120096  0.061546  0.083333   \n",
       "\n",
       "          5830      5831      5832      5833      5834      5835      5836  \n",
       "0     0.000000  0.024311  0.000000  0.000000  0.025016  0.154713  0.000000  \n",
       "1     0.073771  0.172133  0.086066  0.062622  0.088561  0.000000  0.052705  \n",
       "2     0.053995  0.125988  0.062994  0.045835  0.097231  0.000000  0.077152  \n",
       "3     0.078246  0.121716  0.121716  0.088561  0.125245  0.000000  0.149071  \n",
       "4     0.000000  0.000000  0.000000  0.000000  0.000000  0.000000  0.040032  \n",
       "...        ...       ...       ...       ...       ...       ...       ...  \n",
       "5832  0.047619  0.055556  1.000000  0.161690  0.057166  0.000000  0.102062  \n",
       "5833  0.069296  0.040423  0.161690  1.000000  0.041595  0.000000  0.049507  \n",
       "5834  0.049000  0.085749  0.057166  0.041595  1.000000  0.000000  0.070014  \n",
       "5835  0.000000  0.000000  0.000000  0.000000  0.000000  1.000000  0.000000  \n",
       "5836  0.145803  0.068041  0.102062  0.049507  0.070014  0.000000  1.000000  \n",
       "\n",
       "[5837 rows x 5837 columns]"
      ]
     },
     "execution_count": 23,
     "metadata": {},
     "output_type": "execute_result"
    }
   ],
   "source": [
    "similarity = my_cosine_similarity(df_netflix_titles['combined_features'])\n",
    "pd.DataFrame(similarity)"
   ]
  },
  {
   "cell_type": "code",
   "execution_count": 24,
   "metadata": {
    "ExecuteTime": {
     "end_time": "2020-01-21T21:12:23.757598Z",
     "start_time": "2020-01-21T21:12:23.752596Z"
    }
   },
   "outputs": [],
   "source": [
    "def recommend_movie(movie_liked):\n",
    "    index = df_netflix_titles[df_netflix_titles.title == movie_liked].index[0]\n",
    "    \n",
    "    movies = list(enumerate(similarity[index])) #get the row from similarity matrix \n",
    "    \n",
    "    sorted_movies = sorted(movies, key = lambda movie:movie[1], reverse = True)\n",
    "    sorted_movies = sorted_movies[1:11] #skip the first one because it will be the same movie the user likes and keep the first 10\n",
    "\n",
    "    for i in range (10):\n",
    "        print(df_netflix_titles[df_netflix_titles.index == sorted_movies[i][0]]['title'].values[0])"
   ]
  },
  {
   "cell_type": "code",
   "execution_count": 25,
   "metadata": {
    "ExecuteTime": {
     "end_time": "2020-01-21T21:12:25.782235Z",
     "start_time": "2020-01-21T21:12:25.740224Z"
    }
   },
   "outputs": [
    {
     "name": "stdout",
     "output_type": "stream",
     "text": [
      "Pac-Man and the Ghostly Adventures\n",
      "The Minimighty Kids\n",
      "Super Monsters\n",
      "Hatchimals | Adventures in Hatchtopia\n",
      "JingleKids\n",
      "Super Monsters Monster Party\n",
      "My Little Pony: Friendship Is Magic\n",
      "Edgar Rice Burroughs' Tarzan and Jane\n",
      "The Deep\n",
      "ChuChu TV Kids Songs, Learning Videos & Bedtime Stories\n"
     ]
    }
   ],
   "source": [
    "recommend_movie(\"Chip and Potato\")"
   ]
  },
  {
   "cell_type": "markdown",
   "metadata": {},
   "source": [
    "## Cosine TFIDF Description Similarity"
   ]
  },
  {
   "cell_type": "code",
   "execution_count": 26,
   "metadata": {
    "ExecuteTime": {
     "end_time": "2020-01-21T21:12:28.432388Z",
     "start_time": "2020-01-21T21:12:27.998291Z"
    }
   },
   "outputs": [],
   "source": [
    "# Create tf-idf matrix for text comparison\n",
    "tfidf = TfidfVectorizer(stop_words='english')\n",
    "tfidf_matrix = tfidf.fit_transform(df_netflix_titles['description'].dropna())\n",
    "\n",
    "# Compute cosine similarity between all movie-descriptions\n",
    "similarity = cosine_similarity(tfidf_matrix)\n",
    "# Remove self-similarity from matrix\n",
    "similarity -= np.eye(similarity.shape[0])"
   ]
  },
  {
   "cell_type": "code",
   "execution_count": 28,
   "metadata": {
    "ExecuteTime": {
     "end_time": "2020-01-21T21:12:42.302860Z",
     "start_time": "2020-01-21T21:12:42.149611Z"
    }
   },
   "outputs": [
    {
     "data": {
      "image/png": "[encoded data removed]",
      "text/plain": [
       "<Figure size 432x288 with 1 Axes>"
      ]
     },
     "metadata": {
      "needs_background": "light"
     },
     "output_type": "display_data"
    }
   ],
   "source": [
    "# Get index of movie to find similar movies\n",
    "show = \"Chip and Potato\"\n",
    "n_plot = 10\n",
    "index = df_netflix_titles[df_netflix_titles.title==show].index[0]\n",
    "\n",
    "# Get indices and scores of similar movies\n",
    "similar_shows_index = np.argsort(similarity[index])[::-1][:n_plot]\n",
    "similar_shows_score = np.sort(similarity[index])[::-1][:n_plot]\n",
    "\n",
    "# Get titles of similar movies\n",
    "similar_show_titles = df_netflix_titles.iloc[similar_shows_index].title\n",
    "\n",
    "# Plot the similar show with their score.\n",
    "plt.title(f\"Shows Similar to \\\"{show}\\\"\", fontsize=16)\n",
    "plt.barh(similar_show_titles, similar_shows_score)\n",
    "plt.show()"
   ]
  },
  {
   "cell_type": "markdown",
   "metadata": {},
   "source": [
    "## Collaborative Filtering - SVD"
   ]
  },
  {
   "cell_type": "code",
   "execution_count": 36,
   "metadata": {
    "ExecuteTime": {
     "end_time": "2020-01-21T21:29:18.037782Z",
     "start_time": "2020-01-21T21:29:17.325622Z"
    }
   },
   "outputs": [],
   "source": [
    "#demeaning data\n",
    "data_pivot = df_p_small.fillna(0)\n",
    "R = data_pivot.values\n",
    "ratings_mean = np.mean(R, axis = 1)\n",
    "R = R - ratings_mean.reshape(-1,1)"
   ]
  },
  {
   "cell_type": "code",
   "execution_count": 37,
   "metadata": {
    "ExecuteTime": {
     "end_time": "2020-01-21T21:29:20.381257Z",
     "start_time": "2020-01-21T21:29:18.741519Z"
    }
   },
   "outputs": [],
   "source": [
    "#U: user features\n",
    "#S: diagonal matrix of singular values\n",
    "#V_t: movie features\n",
    "\n",
    "U, S, V_t = svds(R, k = 60) #for movie predictions values of k between 20 and 100 have been found to be the best\n",
    "S = np.diag(S)"
   ]
  },
  {
   "cell_type": "code",
   "execution_count": 38,
   "metadata": {
    "ExecuteTime": {
     "end_time": "2020-01-21T21:30:28.817934Z",
     "start_time": "2020-01-21T21:30:28.639414Z"
    }
   },
   "outputs": [
    {
     "data": {
      "text/html": [
       "<div>\n",
       "<style scoped>\n",
       "    .dataframe tbody tr th:only-of-type {\n",
       "        vertical-align: middle;\n",
       "    }\n",
       "\n",
       "    .dataframe tbody tr th {\n",
       "        vertical-align: top;\n",
       "    }\n",
       "\n",
       "    .dataframe thead th {\n",
       "        text-align: right;\n",
       "    }\n",
       "</style>\n",
       "<table border=\"1\" class=\"dataframe\">\n",
       "  <thead>\n",
       "    <tr style=\"text-align: right;\">\n",
       "      <th>Movie_Id</th>\n",
       "      <th>3</th>\n",
       "      <th>8</th>\n",
       "      <th>16</th>\n",
       "      <th>17</th>\n",
       "      <th>18</th>\n",
       "      <th>26</th>\n",
       "      <th>28</th>\n",
       "      <th>30</th>\n",
       "      <th>33</th>\n",
       "      <th>44</th>\n",
       "      <th>...</th>\n",
       "      <th>4454</th>\n",
       "      <th>4465</th>\n",
       "      <th>4472</th>\n",
       "      <th>4474</th>\n",
       "      <th>4479</th>\n",
       "      <th>4488</th>\n",
       "      <th>4490</th>\n",
       "      <th>4492</th>\n",
       "      <th>4493</th>\n",
       "      <th>4496</th>\n",
       "    </tr>\n",
       "    <tr>\n",
       "      <th>Cust_Id</th>\n",
       "      <th></th>\n",
       "      <th></th>\n",
       "      <th></th>\n",
       "      <th></th>\n",
       "      <th></th>\n",
       "      <th></th>\n",
       "      <th></th>\n",
       "      <th></th>\n",
       "      <th></th>\n",
       "      <th></th>\n",
       "      <th></th>\n",
       "      <th></th>\n",
       "      <th></th>\n",
       "      <th></th>\n",
       "      <th></th>\n",
       "      <th></th>\n",
       "      <th></th>\n",
       "      <th></th>\n",
       "      <th></th>\n",
       "      <th></th>\n",
       "      <th></th>\n",
       "    </tr>\n",
       "  </thead>\n",
       "  <tbody>\n",
       "    <tr>\n",
       "      <td>268</td>\n",
       "      <td>0.004773</td>\n",
       "      <td>0.004811</td>\n",
       "      <td>0.004773</td>\n",
       "      <td>0.004775</td>\n",
       "      <td>0.004800</td>\n",
       "      <td>0.004777</td>\n",
       "      <td>0.005091</td>\n",
       "      <td>0.000543</td>\n",
       "      <td>0.004818</td>\n",
       "      <td>0.004776</td>\n",
       "      <td>...</td>\n",
       "      <td>0.004776</td>\n",
       "      <td>0.004775</td>\n",
       "      <td>0.005675</td>\n",
       "      <td>0.004773</td>\n",
       "      <td>0.004898</td>\n",
       "      <td>0.005170</td>\n",
       "      <td>0.004777</td>\n",
       "      <td>0.004777</td>\n",
       "      <td>0.004771</td>\n",
       "      <td>0.004805</td>\n",
       "    </tr>\n",
       "    <tr>\n",
       "      <td>1082</td>\n",
       "      <td>0.000153</td>\n",
       "      <td>-0.000222</td>\n",
       "      <td>0.000153</td>\n",
       "      <td>0.000131</td>\n",
       "      <td>-0.000117</td>\n",
       "      <td>0.000118</td>\n",
       "      <td>-0.001665</td>\n",
       "      <td>-0.000094</td>\n",
       "      <td>-0.000280</td>\n",
       "      <td>0.000122</td>\n",
       "      <td>...</td>\n",
       "      <td>0.000122</td>\n",
       "      <td>0.000135</td>\n",
       "      <td>-0.002626</td>\n",
       "      <td>0.000153</td>\n",
       "      <td>-0.000857</td>\n",
       "      <td>-0.001297</td>\n",
       "      <td>0.000113</td>\n",
       "      <td>0.000109</td>\n",
       "      <td>0.000175</td>\n",
       "      <td>-0.000164</td>\n",
       "    </tr>\n",
       "    <tr>\n",
       "      <td>3432</td>\n",
       "      <td>0.004767</td>\n",
       "      <td>0.004803</td>\n",
       "      <td>0.004767</td>\n",
       "      <td>0.004769</td>\n",
       "      <td>0.004792</td>\n",
       "      <td>0.004770</td>\n",
       "      <td>0.005072</td>\n",
       "      <td>0.000703</td>\n",
       "      <td>0.004809</td>\n",
       "      <td>0.004769</td>\n",
       "      <td>...</td>\n",
       "      <td>0.004769</td>\n",
       "      <td>0.004768</td>\n",
       "      <td>0.005628</td>\n",
       "      <td>0.004767</td>\n",
       "      <td>0.004886</td>\n",
       "      <td>0.005147</td>\n",
       "      <td>0.004770</td>\n",
       "      <td>0.004771</td>\n",
       "      <td>0.004765</td>\n",
       "      <td>0.004797</td>\n",
       "    </tr>\n",
       "    <tr>\n",
       "      <td>3458</td>\n",
       "      <td>0.000959</td>\n",
       "      <td>0.000968</td>\n",
       "      <td>0.000959</td>\n",
       "      <td>0.000960</td>\n",
       "      <td>0.000966</td>\n",
       "      <td>0.000960</td>\n",
       "      <td>0.001032</td>\n",
       "      <td>-0.000005</td>\n",
       "      <td>0.000970</td>\n",
       "      <td>0.000960</td>\n",
       "      <td>...</td>\n",
       "      <td>0.000960</td>\n",
       "      <td>0.000960</td>\n",
       "      <td>0.001170</td>\n",
       "      <td>0.000959</td>\n",
       "      <td>0.000988</td>\n",
       "      <td>0.001051</td>\n",
       "      <td>0.000960</td>\n",
       "      <td>0.000960</td>\n",
       "      <td>0.000959</td>\n",
       "      <td>0.000967</td>\n",
       "    </tr>\n",
       "    <tr>\n",
       "      <td>3522</td>\n",
       "      <td>0.003880</td>\n",
       "      <td>0.003924</td>\n",
       "      <td>0.003880</td>\n",
       "      <td>0.003883</td>\n",
       "      <td>0.003911</td>\n",
       "      <td>0.003884</td>\n",
       "      <td>0.004256</td>\n",
       "      <td>0.001009</td>\n",
       "      <td>0.003932</td>\n",
       "      <td>0.003884</td>\n",
       "      <td>...</td>\n",
       "      <td>0.003884</td>\n",
       "      <td>0.003882</td>\n",
       "      <td>0.005020</td>\n",
       "      <td>0.003880</td>\n",
       "      <td>0.004025</td>\n",
       "      <td>0.004365</td>\n",
       "      <td>0.003885</td>\n",
       "      <td>0.003885</td>\n",
       "      <td>0.003878</td>\n",
       "      <td>0.003917</td>\n",
       "    </tr>\n",
       "    <tr>\n",
       "      <td>...</td>\n",
       "      <td>...</td>\n",
       "      <td>...</td>\n",
       "      <td>...</td>\n",
       "      <td>...</td>\n",
       "      <td>...</td>\n",
       "      <td>...</td>\n",
       "      <td>...</td>\n",
       "      <td>...</td>\n",
       "      <td>...</td>\n",
       "      <td>...</td>\n",
       "      <td>...</td>\n",
       "      <td>...</td>\n",
       "      <td>...</td>\n",
       "      <td>...</td>\n",
       "      <td>...</td>\n",
       "      <td>...</td>\n",
       "      <td>...</td>\n",
       "      <td>...</td>\n",
       "      <td>...</td>\n",
       "      <td>...</td>\n",
       "      <td>...</td>\n",
       "    </tr>\n",
       "    <tr>\n",
       "      <td>2646853</td>\n",
       "      <td>0.004734</td>\n",
       "      <td>0.004759</td>\n",
       "      <td>0.004734</td>\n",
       "      <td>0.004736</td>\n",
       "      <td>0.004752</td>\n",
       "      <td>0.004736</td>\n",
       "      <td>0.004911</td>\n",
       "      <td>-0.002899</td>\n",
       "      <td>0.004763</td>\n",
       "      <td>0.004736</td>\n",
       "      <td>...</td>\n",
       "      <td>0.004736</td>\n",
       "      <td>0.004735</td>\n",
       "      <td>0.005151</td>\n",
       "      <td>0.004734</td>\n",
       "      <td>0.004810</td>\n",
       "      <td>0.005017</td>\n",
       "      <td>0.004737</td>\n",
       "      <td>0.004737</td>\n",
       "      <td>0.004733</td>\n",
       "      <td>0.004755</td>\n",
       "    </tr>\n",
       "    <tr>\n",
       "      <td>2646892</td>\n",
       "      <td>0.001124</td>\n",
       "      <td>0.000485</td>\n",
       "      <td>0.001124</td>\n",
       "      <td>0.001090</td>\n",
       "      <td>0.000681</td>\n",
       "      <td>0.001070</td>\n",
       "      <td>-0.005160</td>\n",
       "      <td>-0.001041</td>\n",
       "      <td>0.000380</td>\n",
       "      <td>0.001077</td>\n",
       "      <td>...</td>\n",
       "      <td>0.001077</td>\n",
       "      <td>0.001097</td>\n",
       "      <td>-0.021089</td>\n",
       "      <td>0.001124</td>\n",
       "      <td>-0.001093</td>\n",
       "      <td>-0.006359</td>\n",
       "      <td>0.001063</td>\n",
       "      <td>0.001056</td>\n",
       "      <td>0.001157</td>\n",
       "      <td>0.000596</td>\n",
       "    </tr>\n",
       "    <tr>\n",
       "      <td>2648157</td>\n",
       "      <td>0.003864</td>\n",
       "      <td>0.003904</td>\n",
       "      <td>0.003864</td>\n",
       "      <td>0.003866</td>\n",
       "      <td>0.003892</td>\n",
       "      <td>0.003867</td>\n",
       "      <td>0.004204</td>\n",
       "      <td>-0.000682</td>\n",
       "      <td>0.003910</td>\n",
       "      <td>0.003867</td>\n",
       "      <td>...</td>\n",
       "      <td>0.003867</td>\n",
       "      <td>0.003865</td>\n",
       "      <td>0.004869</td>\n",
       "      <td>0.003864</td>\n",
       "      <td>0.003996</td>\n",
       "      <td>0.004298</td>\n",
       "      <td>0.003868</td>\n",
       "      <td>0.003868</td>\n",
       "      <td>0.003861</td>\n",
       "      <td>0.003897</td>\n",
       "    </tr>\n",
       "    <tr>\n",
       "      <td>2649049</td>\n",
       "      <td>0.002892</td>\n",
       "      <td>0.002922</td>\n",
       "      <td>0.002892</td>\n",
       "      <td>0.002894</td>\n",
       "      <td>0.002913</td>\n",
       "      <td>0.002895</td>\n",
       "      <td>0.003138</td>\n",
       "      <td>-0.000351</td>\n",
       "      <td>0.002926</td>\n",
       "      <td>0.002895</td>\n",
       "      <td>...</td>\n",
       "      <td>0.002895</td>\n",
       "      <td>0.002894</td>\n",
       "      <td>0.003618</td>\n",
       "      <td>0.002892</td>\n",
       "      <td>0.002988</td>\n",
       "      <td>0.003206</td>\n",
       "      <td>0.002895</td>\n",
       "      <td>0.002896</td>\n",
       "      <td>0.002891</td>\n",
       "      <td>0.002917</td>\n",
       "    </tr>\n",
       "    <tr>\n",
       "      <td>2649120</td>\n",
       "      <td>0.000954</td>\n",
       "      <td>0.000961</td>\n",
       "      <td>0.000954</td>\n",
       "      <td>0.000954</td>\n",
       "      <td>0.000959</td>\n",
       "      <td>0.000954</td>\n",
       "      <td>0.001016</td>\n",
       "      <td>0.000131</td>\n",
       "      <td>0.000962</td>\n",
       "      <td>0.000954</td>\n",
       "      <td>...</td>\n",
       "      <td>0.000954</td>\n",
       "      <td>0.000954</td>\n",
       "      <td>0.001128</td>\n",
       "      <td>0.000954</td>\n",
       "      <td>0.000978</td>\n",
       "      <td>0.001031</td>\n",
       "      <td>0.000954</td>\n",
       "      <td>0.000955</td>\n",
       "      <td>0.000953</td>\n",
       "      <td>0.000960</td>\n",
       "    </tr>\n",
       "  </tbody>\n",
       "</table>\n",
       "<p>6714 rows × 1090 columns</p>\n",
       "</div>"
      ],
      "text/plain": [
       "Movie_Id      3         8         16        17        18        26    \\\n",
       "Cust_Id                                                                \n",
       "268       0.004773  0.004811  0.004773  0.004775  0.004800  0.004777   \n",
       "1082      0.000153 -0.000222  0.000153  0.000131 -0.000117  0.000118   \n",
       "3432      0.004767  0.004803  0.004767  0.004769  0.004792  0.004770   \n",
       "3458      0.000959  0.000968  0.000959  0.000960  0.000966  0.000960   \n",
       "3522      0.003880  0.003924  0.003880  0.003883  0.003911  0.003884   \n",
       "...            ...       ...       ...       ...       ...       ...   \n",
       "2646853   0.004734  0.004759  0.004734  0.004736  0.004752  0.004736   \n",
       "2646892   0.001124  0.000485  0.001124  0.001090  0.000681  0.001070   \n",
       "2648157   0.003864  0.003904  0.003864  0.003866  0.003892  0.003867   \n",
       "2649049   0.002892  0.002922  0.002892  0.002894  0.002913  0.002895   \n",
       "2649120   0.000954  0.000961  0.000954  0.000954  0.000959  0.000954   \n",
       "\n",
       "Movie_Id      28        30        33        44    ...      4454      4465  \\\n",
       "Cust_Id                                           ...                       \n",
       "268       0.005091  0.000543  0.004818  0.004776  ...  0.004776  0.004775   \n",
       "1082     -0.001665 -0.000094 -0.000280  0.000122  ...  0.000122  0.000135   \n",
       "3432      0.005072  0.000703  0.004809  0.004769  ...  0.004769  0.004768   \n",
       "3458      0.001032 -0.000005  0.000970  0.000960  ...  0.000960  0.000960   \n",
       "3522      0.004256  0.001009  0.003932  0.003884  ...  0.003884  0.003882   \n",
       "...            ...       ...       ...       ...  ...       ...       ...   \n",
       "2646853   0.004911 -0.002899  0.004763  0.004736  ...  0.004736  0.004735   \n",
       "2646892  -0.005160 -0.001041  0.000380  0.001077  ...  0.001077  0.001097   \n",
       "2648157   0.004204 -0.000682  0.003910  0.003867  ...  0.003867  0.003865   \n",
       "2649049   0.003138 -0.000351  0.002926  0.002895  ...  0.002895  0.002894   \n",
       "2649120   0.001016  0.000131  0.000962  0.000954  ...  0.000954  0.000954   \n",
       "\n",
       "Movie_Id      4472      4474      4479      4488      4490      4492  \\\n",
       "Cust_Id                                                                \n",
       "268       0.005675  0.004773  0.004898  0.005170  0.004777  0.004777   \n",
       "1082     -0.002626  0.000153 -0.000857 -0.001297  0.000113  0.000109   \n",
       "3432      0.005628  0.004767  0.004886  0.005147  0.004770  0.004771   \n",
       "3458      0.001170  0.000959  0.000988  0.001051  0.000960  0.000960   \n",
       "3522      0.005020  0.003880  0.004025  0.004365  0.003885  0.003885   \n",
       "...            ...       ...       ...       ...       ...       ...   \n",
       "2646853   0.005151  0.004734  0.004810  0.005017  0.004737  0.004737   \n",
       "2646892  -0.021089  0.001124 -0.001093 -0.006359  0.001063  0.001056   \n",
       "2648157   0.004869  0.003864  0.003996  0.004298  0.003868  0.003868   \n",
       "2649049   0.003618  0.002892  0.002988  0.003206  0.002895  0.002896   \n",
       "2649120   0.001128  0.000954  0.000978  0.001031  0.000954  0.000955   \n",
       "\n",
       "Movie_Id      4493      4496  \n",
       "Cust_Id                       \n",
       "268       0.004771  0.004805  \n",
       "1082      0.000175 -0.000164  \n",
       "3432      0.004765  0.004797  \n",
       "3458      0.000959  0.000967  \n",
       "3522      0.003878  0.003917  \n",
       "...            ...       ...  \n",
       "2646853   0.004733  0.004755  \n",
       "2646892   0.001157  0.000596  \n",
       "2648157   0.003861  0.003897  \n",
       "2649049   0.002891  0.002917  \n",
       "2649120   0.000953  0.000960  \n",
       "\n",
       "[6714 rows x 1090 columns]"
      ]
     },
     "execution_count": 38,
     "metadata": {},
     "output_type": "execute_result"
    }
   ],
   "source": [
    "predicted_ratings = np.dot(np.dot(U, S), V_t) + ratings_mean.reshape(-1, 1)\n",
    "predictions = pd.DataFrame(predicted_ratings, columns = data_pivot.columns, index = data_pivot.index)\n",
    "predictions"
   ]
  },
  {
   "cell_type": "code",
   "execution_count": 39,
   "metadata": {
    "ExecuteTime": {
     "end_time": "2020-01-21T21:30:29.663104Z",
     "start_time": "2020-01-21T21:30:29.637114Z"
    }
   },
   "outputs": [],
   "source": [
    "def recommend_movies(user_id, netflix_movies):\n",
    "    \n",
    "    sorted_preds = pd.DataFrame(predictions.loc[user_id].sort_values(ascending = False))\n",
    "    user_ratings = df[df.Cust_Id == user_id]\n",
    "    \n",
    "    already_rated = user_ratings.merge(df_title, how='left', left_on='Movie_Id', right_on='Movie_Id')\n",
    "\n",
    "    netflix_movies = df_title[df_title.index.isin(df['Movie_Id'])]   \n",
    "\n",
    "    to_recommend = df_title[~df_title.index.isin(already_rated['Movie_Id'])]\n",
    "    to_recommend = to_recommend.merge(sorted_preds, how='left', left_on='Movie_Id', right_on='Movie_Id')\n",
    "    to_recommend = to_recommend.sort_values(by=user_id, ascending=False)\n",
    "    \n",
    "    for i in range(0, 10):\n",
    "        print(to_recommend.iloc[i].Name)"
   ]
  },
  {
   "cell_type": "code",
   "execution_count": 41,
   "metadata": {
    "ExecuteTime": {
     "end_time": "2020-01-21T21:30:42.508614Z",
     "start_time": "2020-01-21T21:30:41.581314Z"
    }
   },
   "outputs": [
    {
     "name": "stdout",
     "output_type": "stream",
     "text": [
      "The Family Man\n",
      "Training Day\n",
      "The Perfect Storm\n",
      "Taking Lives\n",
      "Love Actually\n",
      "Eternal Sunshine of the Spotless Mind\n",
      "The Others\n",
      "Lock\n",
      "Ever After: A Cinderella Story\n",
      "Sixteen Candles\n"
     ]
    }
   ],
   "source": [
    "recommend_movies(268, df_title)"
   ]
  },
  {
   "cell_type": "markdown",
   "metadata": {},
   "source": [
    "## Matrix Factorization With Keras And Gradient Descent"
   ]
  },
  {
   "cell_type": "code",
   "execution_count": 79,
   "metadata": {
    "ExecuteTime": {
     "end_time": "2020-01-21T21:51:53.273195Z",
     "start_time": "2020-01-21T21:51:51.277320Z"
    }
   },
   "outputs": [],
   "source": [
    "user_id_mapping = {id:i for i, id in enumerate(df['Cust_Id'].unique())}\n",
    "movie_id_mapping = {id:i for i, id in enumerate(df['Movie_Id'].unique())}\n",
    "\n",
    "\n",
    "# Create correctly mapped train & test datasets\n",
    "train_user_data = df_train['Cust_Id'].map(user_id_mapping)\n",
    "train_movie_data = df_train['Movie_Id'].map(movie_id_mapping)\n",
    "\n",
    "test_user_data = df_test['Cust_Id'].map(user_id_mapping)\n",
    "test_movie_data = df_test['Movie_Id'].map(movie_id_mapping)\n",
    "\n",
    "\n",
    "# Get input variable-sizes\n",
    "users = len(user_id_mapping)\n",
    "movies = len(movie_id_mapping)\n",
    "embedding_size = 10"
   ]
  },
  {
   "cell_type": "code",
   "execution_count": 80,
   "metadata": {
    "ExecuteTime": {
     "end_time": "2020-01-21T21:51:55.976285Z",
     "start_time": "2020-01-21T21:51:54.060734Z"
    }
   },
   "outputs": [],
   "source": [
    "# Set input layers\n",
    "user_id_input = Input(shape=[1], name='user')\n",
    "movie_id_input = Input(shape=[1], name='movie')\n",
    "\n",
    "# Create embedding layers for users and movies\n",
    "user_embedding = Embedding(output_dim=embedding_size, \n",
    "                           input_dim=users,\n",
    "                           input_length=1, \n",
    "                           name='user_embedding')(user_id_input)\n",
    "movie_embedding = Embedding(output_dim=embedding_size, \n",
    "                            input_dim=movies,\n",
    "                            input_length=1, \n",
    "                            name='item_embedding')(movie_id_input)"
   ]
  },
  {
   "cell_type": "code",
   "execution_count": 81,
   "metadata": {
    "ExecuteTime": {
     "end_time": "2020-01-21T21:52:00.891374Z",
     "start_time": "2020-01-21T21:52:00.613415Z"
    }
   },
   "outputs": [],
   "source": [
    "# Reshape the embedding layers\n",
    "user_vector = Reshape([embedding_size])(user_embedding)\n",
    "movie_vector = Reshape([embedding_size])(movie_embedding)"
   ]
  },
  {
   "cell_type": "code",
   "execution_count": 82,
   "metadata": {
    "ExecuteTime": {
     "end_time": "2020-01-21T21:52:01.686628Z",
     "start_time": "2020-01-21T21:52:01.676531Z"
    }
   },
   "outputs": [],
   "source": [
    "# Compute dot-product of reshaped embedding layers as prediction\n",
    "y = Dot(1, normalize=False)([user_vector, movie_vector])"
   ]
  },
  {
   "cell_type": "code",
   "execution_count": 83,
   "metadata": {
    "ExecuteTime": {
     "end_time": "2020-01-21T21:52:02.631099Z",
     "start_time": "2020-01-21T21:52:02.472009Z"
    }
   },
   "outputs": [],
   "source": [
    "# Setup model\n",
    "model = Model(inputs=[user_id_input, movie_id_input], outputs=y)\n",
    "model.compile(loss='mse', optimizer='adam')"
   ]
  },
  {
   "cell_type": "code",
   "execution_count": 84,
   "metadata": {
    "ExecuteTime": {
     "end_time": "2020-01-21T21:58:40.670850Z",
     "start_time": "2020-01-21T21:52:03.409106Z"
    }
   },
   "outputs": [
    {
     "name": "stdout",
     "output_type": "stream",
     "text": [
      "WARNING:tensorflow:Falling back from v2 loop because of error: Failed to find data adapter that can handle input: (<class 'list'> containing values of types {\"<class 'pandas.core.series.Series'>\"}), <class 'NoneType'>\n",
      "Train on 12482969 samples, validate on 1386997 samples\n",
      "12482969/12482969 [==============================] - 396s 32us/sample - loss: 2.0394 - val_loss: 0.9527\n"
     ]
    },
    {
     "data": {
      "text/plain": [
       "<tensorflow.python.keras.callbacks.History at 0x23a0b517400>"
      ]
     },
     "execution_count": 84,
     "metadata": {},
     "output_type": "execute_result"
    }
   ],
   "source": [
    "# Fit model\n",
    "model.fit([train_user_data, train_movie_data],\n",
    "          df_train['Rating'],\n",
    "          batch_size=256, \n",
    "          epochs=1,\n",
    "          validation_split=0.1,\n",
    "          shuffle=True)"
   ]
  },
  {
   "cell_type": "code",
   "execution_count": 86,
   "metadata": {
    "ExecuteTime": {
     "end_time": "2020-01-21T22:02:22.239132Z",
     "start_time": "2020-01-21T22:00:37.930519Z"
    }
   },
   "outputs": [
    {
     "name": "stdout",
     "output_type": "stream",
     "text": [
      "WARNING:tensorflow:Falling back from v2 loop because of error: Failed to find data adapter that can handle input: (<class 'list'> containing values of types {\"<class 'pandas.core.series.Series'>\"}), <class 'NoneType'>\n"
     ]
    }
   ],
   "source": [
    "# Test model\n",
    "y_pred = model.predict([test_user_data, test_movie_data])\n",
    "y_true = df_test['Rating'].values"
   ]
  },
  {
   "cell_type": "code",
   "execution_count": 87,
   "metadata": {
    "ExecuteTime": {
     "end_time": "2020-01-21T22:02:23.715341Z",
     "start_time": "2020-01-21T22:02:23.106441Z"
    }
   },
   "outputs": [
    {
     "name": "stdout",
     "output_type": "stream",
     "text": [
      "RMSE: 0.977105 RMSE\n"
     ]
    }
   ],
   "source": [
    "#  Compute RMSE\n",
    "rmse_keras_gradient = np.sqrt(mean_squared_error(y_pred=y_pred, y_true=y_true))\n",
    "print(f\"RMSE: {rmse_keras_gradient:f} RMSE\")"
   ]
  },
  {
   "cell_type": "markdown",
   "metadata": {},
   "source": [
    "## Deep Learning - Keras"
   ]
  },
  {
   "cell_type": "code",
   "execution_count": 96,
   "metadata": {
    "ExecuteTime": {
     "end_time": "2020-01-21T22:17:04.797668Z",
     "start_time": "2020-01-21T22:17:04.794667Z"
    }
   },
   "outputs": [],
   "source": [
    "# Setup variables\n",
    "user_embedding_size = 20\n",
    "movie_embedding_size = 10"
   ]
  },
  {
   "cell_type": "code",
   "execution_count": 97,
   "metadata": {
    "ExecuteTime": {
     "end_time": "2020-01-21T22:17:05.675886Z",
     "start_time": "2020-01-21T22:17:05.669885Z"
    }
   },
   "outputs": [],
   "source": [
    "# Set input layers\n",
    "user_id_input = Input(shape=[1], name='user')\n",
    "movie_id_input = Input(shape=[1], name='movie')"
   ]
  },
  {
   "cell_type": "code",
   "execution_count": 98,
   "metadata": {
    "ExecuteTime": {
     "end_time": "2020-01-21T22:17:06.509675Z",
     "start_time": "2020-01-21T22:17:06.468125Z"
    }
   },
   "outputs": [],
   "source": [
    "# Create embedding layers for users and movies\n",
    "user_embedding = Embedding(output_dim=user_embedding_size, \n",
    "                           input_dim=users,\n",
    "                           input_length=1, \n",
    "                           name='user_embedding')(user_id_input)\n",
    "movie_embedding = Embedding(output_dim=movie_embedding_size, \n",
    "                            input_dim=movies,\n",
    "                            input_length=1, \n",
    "                            name='item_embedding')(movie_id_input)"
   ]
  },
  {
   "cell_type": "code",
   "execution_count": 99,
   "metadata": {
    "ExecuteTime": {
     "end_time": "2020-01-21T22:17:07.311995Z",
     "start_time": "2020-01-21T22:17:07.292982Z"
    }
   },
   "outputs": [],
   "source": [
    "# Reshape the embedding layers\n",
    "user_vector = Reshape([user_embedding_size])(user_embedding)\n",
    "movie_vector = Reshape([movie_embedding_size])(movie_embedding)"
   ]
  },
  {
   "cell_type": "code",
   "execution_count": 100,
   "metadata": {
    "ExecuteTime": {
     "end_time": "2020-01-21T22:17:08.113346Z",
     "start_time": "2020-01-21T22:17:08.107346Z"
    }
   },
   "outputs": [],
   "source": [
    "# Concatenate the reshaped embedding layers\n",
    "concat = Concatenate()([user_vector, movie_vector])"
   ]
  },
  {
   "cell_type": "code",
   "execution_count": 101,
   "metadata": {
    "ExecuteTime": {
     "end_time": "2020-01-21T22:17:08.939737Z",
     "start_time": "2020-01-21T22:17:08.911984Z"
    }
   },
   "outputs": [],
   "source": [
    "# Combine with dense layers\n",
    "dense = Dense(256)(concat)\n",
    "y = Dense(1)(dense)"
   ]
  },
  {
   "cell_type": "code",
   "execution_count": 102,
   "metadata": {
    "ExecuteTime": {
     "end_time": "2020-01-21T22:17:09.733460Z",
     "start_time": "2020-01-21T22:17:09.711308Z"
    }
   },
   "outputs": [],
   "source": [
    "# Setup model\n",
    "model = Model(inputs=[user_id_input, movie_id_input], outputs=y)\n",
    "model.compile(loss='mse', optimizer='adam')"
   ]
  },
  {
   "cell_type": "code",
   "execution_count": 103,
   "metadata": {
    "ExecuteTime": {
     "end_time": "2020-01-21T22:30:52.538059Z",
     "start_time": "2020-01-21T22:17:10.544543Z"
    }
   },
   "outputs": [
    {
     "name": "stdout",
     "output_type": "stream",
     "text": [
      "WARNING:tensorflow:Falling back from v2 loop because of error: Failed to find data adapter that can handle input: (<class 'list'> containing values of types {\"<class 'pandas.core.series.Series'>\"}), <class 'NoneType'>\n",
      "Train on 12482969 samples, validate on 1386997 samples\n",
      "12482969/12482969 [==============================] - 822s 66us/sample - loss: 0.8720 - val_loss: 0.8387\n"
     ]
    },
    {
     "data": {
      "text/plain": [
       "<tensorflow.python.keras.callbacks.History at 0x23a47319940>"
      ]
     },
     "execution_count": 103,
     "metadata": {},
     "output_type": "execute_result"
    }
   ],
   "source": [
    "# Fit model\n",
    "model.fit([train_user_data, train_movie_data],\n",
    "          df_train['Rating'],\n",
    "          batch_size=256, \n",
    "          epochs=1,\n",
    "          validation_split=0.1,\n",
    "          shuffle=True)"
   ]
  },
  {
   "cell_type": "code",
   "execution_count": 104,
   "metadata": {
    "ExecuteTime": {
     "end_time": "2020-01-21T22:34:04.508229Z",
     "start_time": "2020-01-21T22:30:53.424258Z"
    }
   },
   "outputs": [
    {
     "name": "stdout",
     "output_type": "stream",
     "text": [
      "WARNING:tensorflow:Falling back from v2 loop because of error: Failed to find data adapter that can handle input: (<class 'list'> containing values of types {\"<class 'pandas.core.series.Series'>\"}), <class 'NoneType'>\n"
     ]
    }
   ],
   "source": [
    "# Test model\n",
    "y_pred = model.predict([test_user_data, test_movie_data])\n",
    "y_true = df_test['Rating'].values"
   ]
  },
  {
   "cell_type": "code",
   "execution_count": 105,
   "metadata": {
    "ExecuteTime": {
     "end_time": "2020-01-21T22:34:05.410617Z",
     "start_time": "2020-01-21T22:34:05.360748Z"
    }
   },
   "outputs": [
    {
     "name": "stdout",
     "output_type": "stream",
     "text": [
      "RMSE: 0.916561\n"
     ]
    }
   ],
   "source": [
    "#  Compute RMSE\n",
    "rmse_dl_keras = np.sqrt(mean_squared_error(y_pred=y_pred, y_true=y_true))\n",
    "print(f\"RMSE: {rmse_dl_keras:f}\")"
   ]
  },
  {
   "cell_type": "markdown",
   "metadata": {},
   "source": [
    "# Results"
   ]
  },
  {
   "cell_type": "markdown",
   "metadata": {},
   "source": [
    "**Note:** With cosine, cosine tfidf and svd there is no RMSE to compare."
   ]
  },
  {
   "cell_type": "code",
   "execution_count": 106,
   "metadata": {
    "ExecuteTime": {
     "end_time": "2020-01-21T22:34:19.222271Z",
     "start_time": "2020-01-21T22:34:19.218279Z"
    }
   },
   "outputs": [
    {
     "name": "stdout",
     "output_type": "stream",
     "text": [
      "Testing Result With Mean Rating: 0.994461 RMSE\n",
      "Testing Result With Weighted Mean Rating: 1.022808 RMSE\n",
      "Testing Result With Cosine User-User Similarity: 1.076555 RMSE\n",
      "Testing Result With Matrix Factorisation with Keras And Gradient Descent: 0.977105 RMSE\n",
      "Testing Result With Deep Learning with Keras: 0.916561 RMSE\n"
     ]
    }
   ],
   "source": [
    "results = {\"Mean Rating\":rmse_mean,\n",
    "           \"Weighted Mean Rating\":rmse_weighted_mean,\n",
    "           \"Cosine User-User Similarity\":rmse_uu_cos,\n",
    "           \"Matrix Factorization with Keras And Gradient Descent\":rmse_keras_gradient,\n",
    "           \"Deep Learning with Keras\":rmse_dl_keras}\n",
    "\n",
    "for engine, rmse in results.items():\n",
    "    print(f\"Testing Result With {engine}: {rmse:f} RMSE\")"
   ]
  }
 ],
 "metadata": {
  "kernelspec": {
   "display_name": "Python 3",
   "language": "python",
   "name": "python3"
  },
  "language_info": {
   "codemirror_mode": {
    "name": "ipython",
    "version": 3
   },
   "file_extension": ".py",
   "mimetype": "text/x-python",
   "name": "python",
   "nbconvert_exporter": "python",
   "pygments_lexer": "ipython3",
   "version": "3.7.1"
  },
  "latex_envs": {
   "LaTeX_envs_menu_present": true,
   "autoclose": false,
   "autocomplete": true,
   "bibliofile": "biblio.bib",
   "cite_by": "apalike",
   "current_citInitial": 1,
   "eqLabelWithNumbers": true,
   "eqNumInitial": 1,
   "hotkeys": {
    "equation": "Ctrl-E",
    "itemize": "Ctrl-I"
   },
   "labels_anchors": false,
   "latex_user_defs": false,
   "report_style_numbering": false,
   "user_envs_cfg": false
  },
  "toc": {
   "base_numbering": 1,
   "nav_menu": {},
   "number_sections": true,
   "sideBar": true,
   "skip_h1_title": false,
   "title_cell": "Table of Contents",
   "title_sidebar": "Contents",
   "toc_cell": false,
   "toc_position": {
    "height": "calc(100% - 180px)",
    "left": "10px",
    "top": "150px",
    "width": "165px"
   },
   "toc_section_display": true,
   "toc_window_display": true
  },
  "varInspector": {
   "cols": {
    "lenName": 16,
    "lenType": 16,
    "lenVar": 40
   },
   "kernels_config": {
    "python": {
     "delete_cmd_postfix": "",
     "delete_cmd_prefix": "del ",
     "library": "var_list.py",
     "varRefreshCmd": "print(var_dic_list())"
    },
    "r": {
     "delete_cmd_postfix": ") ",
     "delete_cmd_prefix": "rm(",
     "library": "var_list.r",
     "varRefreshCmd": "cat(var_dic_list()) "
    }
   },
   "types_to_exclude": [
    "module",
    "function",
    "builtin_function_or_method",
    "instance",
    "_Feature"
   ],
   "window_display": false
  }
 },
 "nbformat": 4,
 "nbformat_minor": 2
}
